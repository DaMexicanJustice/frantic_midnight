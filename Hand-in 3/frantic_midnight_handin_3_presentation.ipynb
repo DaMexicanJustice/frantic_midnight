{
 "cells": [
  {
   "cell_type": "markdown",
   "metadata": {},
   "source": [
    "# The Dataset\n",
    "3 datasets on 3 different topics. One for human development index, active satellites and one for historical index\n",
    "\n",
    "## Questions\n",
    "### Human Development Index\n",
    "1. Which country has the highest HDI (Human Development Index) and which has the lowest?\n",
    "2. Which country has raised its HDI the most, in the period 1990 to 2014?\n",
    "\n",
    "### Active satellites\n",
    "3. Which country has the most satelites for military usage?\n",
    "4. Wich country has the lightest satelite and how much does it weight?\n",
    "5. Compare the usage of satelites, between the 5 poorest countries and the 5 welthiest countries, according to the HDI dataset (see first dataset), plotting optional."
   ]
  },
  {
   "cell_type": "markdown",
   "metadata": {},
   "source": [
    "## Question 1\n",
    "Which country has the highest HDI (Human Development Index) and which has the lowest?"
   ]
  },
  {
   "cell_type": "code",
   "execution_count": null,
   "metadata": {
    "collapsed": true
   },
   "outputs": [],
   "source": []
  },
  {
   "cell_type": "markdown",
   "metadata": {},
   "source": [
    "## Question 2\n",
    "Which country has raised its HDI the most, in the period 1990 to 2014?"
   ]
  },
  {
   "cell_type": "code",
   "execution_count": null,
   "metadata": {
    "collapsed": true
   },
   "outputs": [],
   "source": []
  },
  {
   "cell_type": "markdown",
   "metadata": {},
   "source": [
    "## Question 3\n",
    "Which country has the most satelites for military usage?"
   ]
  },
  {
   "cell_type": "code",
   "execution_count": null,
   "metadata": {
    "collapsed": true
   },
   "outputs": [],
   "source": []
  },
  {
   "cell_type": "markdown",
   "metadata": {},
   "source": [
    "## Question 4\n",
    "Which country has the lightest satelite and how much does it weight?"
   ]
  },
  {
   "cell_type": "markdown",
   "metadata": {},
   "source": [
    "The first order of business is to import all the libraries that we need. For our solution to this question we will use the following:"
   ]
  },
  {
   "cell_type": "code",
   "execution_count": 5,
   "metadata": {
    "collapsed": true
   },
   "outputs": [],
   "source": [
    "import webget\n",
    "import pandas as pd\n",
    "import os\n",
    "from urllib.parse import urlparse\n",
    "import re"
   ]
  },
  {
   "cell_type": "markdown",
   "metadata": {},
   "source": [
    "We will be using [pandas](http://pandas.pydata.org/) to read all the data from a csv file and prepare it for data handling as a dataframe object. Webget is a custom library written by us to download a file at a direct link location. Next, [os](https://docs.python.org/2/library/os.html) is used to get the destination of the file platform non-specific. Next, [urlparse](https://docs.python.org/2/library/urlparse.html) is used in conjunction with our webget to wellform a url. Finally, [re](https://docs.python.org/2/library/re.html) is used to split non-digits from a data entry using a regular expression. "
   ]
  },
  {
   "cell_type": "markdown",
   "metadata": {},
   "source": [
    "To download the csv file we simply make the following implemetation using webget"
   ]
  },
  {
   "cell_type": "code",
   "execution_count": 7,
   "metadata": {
    "collapsed": true
   },
   "outputs": [],
   "source": [
    "def download(url):\n",
    "    #webget.download(url)\n",
    "    #return os.path.basename(urlparse(url).path)\n",
    "    # Getting the csv file via webget from github downloads a malformed csv that contains HTML tags, so we have to do it manually\n",
    "    return \"./database.csv\""
   ]
  },
  {
   "cell_type": "markdown",
   "metadata": {},
   "source": [
    "We read all the rows and columns of the csv and prepare a DataFrame object of them using pandas"
   ]
  },
  {
   "cell_type": "code",
   "execution_count": null,
   "metadata": {
    "collapsed": true
   },
   "outputs": [],
   "source": [
    "def read_from_csv(filename):\n",
    "    data = pd.read_csv(filename)\n",
    "    data_no_nan = set_missing_values_to_0(data)\n",
    "    return data_no_nan"
   ]
  },
  {
   "cell_type": "markdown",
   "metadata": {},
   "source": [
    "Notice how we make use of the custom method we have made, set_missing_values_to_0, to handle all the NaN values in the dataset"
   ]
  },
  {
   "cell_type": "code",
   "execution_count": 9,
   "metadata": {
    "collapsed": true
   },
   "outputs": [],
   "source": [
    "def set_missing_values_to_0(data):\n",
    "    return data.fillna(0.0)"
   ]
  },
  {
   "cell_type": "code",
   "execution_count": null,
   "metadata": {
    "collapsed": true
   },
   "outputs": [],
   "source": [
    "The dataset has a mix of values that are floats and strings. To get around this we need a method"
   ]
  },
  {
   "cell_type": "code",
   "execution_count": 10,
   "metadata": {
    "collapsed": true
   },
   "outputs": [],
   "source": [
    "def remove_non_digits_and_float_cast(rowstr, index):\n",
    "    temp = re.sub(\"[^0-9]\", \"\", rowstr)\n",
    "    temp = temp.strip()\n",
    "    if index != 341:\n",
    "        temp = float(temp)\n",
    "    else:\n",
    "        temp = 0;\n",
    "    return temp"
   ]
  },
  {
   "cell_type": "markdown",
   "metadata": {},
   "source": [
    "The method will take an entry from the dataset as well as an index. Then we will split that string using a regular expression to exclude all non digits. Finally, we evaluate on index. The dataset has one specific row, 341, that is blank. It seems to be a bug, but a temporary fix is to ignore that specific row for now."
   ]
  },
  {
   "cell_type": "markdown",
   "metadata": {},
   "source": [
    "First let us declare everything we need in a method definition"
   ]
  },
  {
   "cell_type": "code",
   "execution_count": null,
   "metadata": {
    "collapsed": true
   },
   "outputs": [],
   "source": [
    "def ex4_lightest_satellite(data):\n",
    "    satellite_owner = \"\"\n",
    "    satellite_owner_country = \"\"\n",
    "    satellite_name = \"\"\n",
    "    satellite_weight = 10000.0;\n",
    "    #Row 341 has a blank 'white' empty space for no apparent reason. I hard code my way around it. Help?\n",
    "    index = 0"
   ]
  },
  {
   "cell_type": "markdown",
   "metadata": {},
   "source": [
    "Next, we will implement the iterative process of going through the data set and discovering the lowest value every time. Once we have iterated all the way through, we will know our winner. On the way we have to evaluate on the entries to discover if they are strings or float and make use of our handler method when appropriate. Add the following code to our ex4 method"
   ]
  },
  {
   "cell_type": "code",
   "execution_count": null,
   "metadata": {
    "collapsed": false
   },
   "outputs": [],
   "source": [
    "for row in data.iterrows():\n",
    "        #Is the index a string? If yes, it contains non-digits we need to remove\n",
    "        if type( row[1][16]) is str:\n",
    "            #Call to method that handles stripping our entry using a regular expression\n",
    "            temp = remove_non_digits_and_float_cast(row[1][16], index)\n",
    "            #If the weight is 0, then it was one of the NaN values we handled and it doesn't count\n",
    "            if temp == 0:\n",
    "                pass\n",
    "            else:\n",
    "                #King of the Hill implementation\n",
    "                if temp < satellite_weight:\n",
    "                    satellite_name = row[1][0]\n",
    "                    satellite_owner_country = row[1][1]\n",
    "                    satellite_owner = row[1][2]\n",
    "                    satellite_weight = temp\n",
    "            index += 1\n",
    "        else:\n",
    "            #The entry is already a float, so we can apply our gymnastics immediately\n",
    "            if row[1][16] != 0:\n",
    "                if row[1][16] < satellite_weight:\n",
    "                    satellite_name = row[1][0]\n",
    "                    satellite_owner_country = row[1][1]\n",
    "                    satellite_owner = row[1][2]\n",
    "                    satellite_weight = row[1][16]\n",
    "                index += 1\n",
    "            else:\n",
    "                pass"
   ]
  },
  {
   "cell_type": "markdown",
   "metadata": {},
   "source": [
    "Finally, we need but return the result of our operation. Add the following to our ex4 method"
   ]
  },
  {
   "cell_type": "code",
   "execution_count": null,
   "metadata": {
    "collapsed": true
   },
   "outputs": [],
   "source": [
    "#The answer to the question is stored in 3 variables        \n",
    "    return satellite_owner_country + \" is the country with the lightest satellite weighing in at: \" \\\n",
    "    + str(satellite_weight) + \" kilograms\" + \\\n",
    "    \", called: \" + satellite_name + \", belonging to the \" + satellite_owner"
   ]
  },
  {
   "cell_type": "markdown",
   "metadata": {},
   "source": [
    "### The Result\n",
    "![image](http://i66.tinypic.com/15iauxs.png)"
   ]
  },
  {
   "cell_type": "markdown",
   "metadata": {},
   "source": [
    "## Question 5\n",
    "Compare the usage of satelites, between the 5 poorest countries and the 5 welthiest countries, according to the HDI dataset (see first dataset), plotting optional."
   ]
  },
  {
   "cell_type": "code",
   "execution_count": null,
   "metadata": {
    "collapsed": true
   },
   "outputs": [],
   "source": []
  }
 ],
 "metadata": {
  "kernelspec": {
   "display_name": "Python 3",
   "language": "python",
   "name": "python3"
  },
  "language_info": {
   "codemirror_mode": {
    "name": "ipython",
    "version": 3
   },
   "file_extension": ".py",
   "mimetype": "text/x-python",
   "name": "python",
   "nbconvert_exporter": "python",
   "pygments_lexer": "ipython3",
   "version": "3.4.3"
  }
 },
 "nbformat": 4,
 "nbformat_minor": 2
}
