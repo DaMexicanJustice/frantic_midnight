{
 "cells": [
  {
   "cell_type": "markdown",
   "metadata": {
    "deletable": true,
    "editable": true
   },
   "source": [
    "# The Dataset\n",
    "3 datasets on 3 different topics. One for human development index, active satellites and one for historical index\n",
    "\n",
    "## Questions\n",
    "### Human Development Index\n",
    "1. Which country has the highest HDI (Human Development Index) and which has the lowest?\n",
    "2. Which country has raised its HDI the most, in the period 1990 to 2014?\n",
    "\n",
    "### Active satellites\n",
    "3. Which country has the most satelites for military usage?\n",
    "4. Wich country has the lightest satelite and how much does it weight?\n",
    "5. Compare the usage of satelites, between the 5 poorest countries and the 5 welthiest countries, according to the HDI dataset (see first dataset), plotting optional."
   ]
  },
  {
   "cell_type": "markdown",
   "metadata": {
    "deletable": true,
    "editable": true
   },
   "source": [
    "## Question 1\n",
    "Which country has the highest HDI (Human Development Index) and which has the lowest?\n",
    "\n",
    "First we import pandas as pd and numpy as np and read the csv file.\n",
    "We set the csv file as a specialized 2d-array with matrix() and call it dd.\n",
    "\n",
    "We then take countries and HDI and set them as unique.\n",
    "\n",
    "We then take the sum of every country with the HDI and iterate through all the countries.\n",
    "\n",
    "At last we print out which of the countries had max and min HDI aswell as the values."
   ]
  },
  {
   "cell_type": "code",
   "execution_count": 1,
   "metadata": {
    "collapsed": true,
    "deletable": true,
    "editable": true
   },
   "outputs": [],
   "source": [
    "import pandas as pd\n",
    "import numpy as np\n",
    "import matplotlib.pyplot as plt \n",
    "\n",
    "#country 1, HDI 2.\n",
    "\n",
    "HDIs = pd.read_csv(\"HDI.csv\")\n",
    "\n",
    "dd = HDIs.as_matrix()"
   ]
  },
  {
   "cell_type": "code",
   "execution_count": 4,
   "metadata": {
    "collapsed": false,
    "deletable": true,
    "editable": true
   },
   "outputs": [
    {
     "name": "stdout",
     "output_type": "stream",
     "text": [
      "Country with highest HDI: Norway 0.9440000000000001\n",
      "Country with lowest HDI: Niger 0.348\n"
     ]
    }
   ],
   "source": [
    "countries = np.unique(dd[:,1])\n",
    "HDI = np.unique(dd[:,2])\n",
    "\n",
    "country = np.array([np.sum(dd[(dd[:,1] == count)][:,2]) for count in countries])\n",
    "\n",
    "print(\"Country with highest HDI: \" + countries[np.argmax(country)], np.amax(HDI))\n",
    "print(\"Country with lowest HDI: \" + countries[np.argmin(country)], np.amin(HDI))"
   ]
  },
  {
   "cell_type": "markdown",
   "metadata": {
    "deletable": true,
    "editable": true
   },
   "source": [
    "## Question 2\n",
    "Which country has raised its HDI the most, in the period 1990 to 2014?\n",
    "\n",
    "To figure this out we made a dictionary with the key as the country, and the value as row8 (2014) minus row2 (1990). Then we could get the max of it.\n",
    "\n",
    "We ignored the entries that had \"..\" as their value."
   ]
  },
  {
   "cell_type": "code",
   "execution_count": 1,
   "metadata": {
    "collapsed": true,
    "deletable": true,
    "editable": true
   },
   "outputs": [],
   "source": [
    "import pandas as pd\n",
    "from collections import defaultdict\n",
    "countries = defaultdict(lambda: 0.0)\n",
    "data = pd.read_csv(\"./historical_index.csv\")"
   ]
  },
  {
   "cell_type": "code",
   "execution_count": 2,
   "metadata": {
    "collapsed": false
   },
   "outputs": [
    {
     "name": "stdout",
     "output_type": "stream",
     "text": [
      "Rwanda with 0.239\n"
     ]
    }
   ],
   "source": [
    "for row in data.itertuples():\n",
    "\tif(row[3] != \"..\"):\n",
    "\t\tcountries[row[2]] += float(row[9])-float(row[3])\n",
    "\n",
    "best = max(countries, key=countries.get)\n",
    "print(best + \" with \" + str(dict(countries)[best]))"
   ]
  },
  {
   "cell_type": "markdown",
   "metadata": {
    "deletable": true,
    "editable": true
   },
   "source": [
    "## Question 3\n",
    "Which country has the most satelites for military usage?\n",
    "\n",
    "A dictonary is created containing 1 entry of all countries as keys - all of them gets a value of 0.\n",
    "\n",
    "Then we run through the csv file again. This time we check if the satellite is used for military purposes,\n",
    "if it is, we add 1 to the value of the country who has the satellite. That way we can find the entry with the highest value."
   ]
  },
  {
   "cell_type": "code",
   "execution_count": null,
   "metadata": {
    "collapsed": true,
    "deletable": true,
    "editable": true
   },
   "outputs": [],
   "source": [
    "def military_satellites(data):\n",
    "\n",
    "    country_m = {} \n",
    "    \n",
    "    for row in data.iterrows():\n",
    "        if(row[1][3] in country_m):\n",
    "            pass\n",
    "        else:\n",
    "            country_m.setdefault(row[1][3], 0)\n",
    "            \n",
    "\n",
    "    for row in data.iterrows():\n",
    "        if (row[1][4] == \"Military\"):\n",
    "            temp = row[1][3]\n",
    "            country_m[temp] = country_m.get(temp, 0) + 1\n",
    "                        \n",
    "            \n",
    "            \n",
    "    maximum = max(country_m, key=country_m.get) \n",
    "    print(\"Country with the most satellites used for military purposes is: \") \n",
    "    print(maximum + \" with a total of: \" + str(country_m[maximum]) + \" satellites.\")"
   ]
  },
  {
   "cell_type": "markdown",
   "metadata": {
    "deletable": true,
    "editable": true
   },
   "source": [
    "Country with the most satellites used for military purposes is:\n",
    "USA with a total of: 114 satellites."
   ]
  },
  {
   "cell_type": "markdown",
   "metadata": {
    "deletable": true,
    "editable": true
   },
   "source": [
    "## Question 4\n",
    "Which country has the lightest satelite and how much does it weight?"
   ]
  },
  {
   "cell_type": "markdown",
   "metadata": {
    "deletable": true,
    "editable": true
   },
   "source": [
    "The first order of business is to import all the libraries that we need. For our solution to this question we will use the following:"
   ]
  },
  {
   "cell_type": "code",
   "execution_count": 5,
   "metadata": {
    "collapsed": true,
    "deletable": true,
    "editable": true
   },
   "outputs": [],
   "source": [
    "import webget\n",
    "import pandas as pd\n",
    "import os\n",
    "from urllib.parse import urlparse\n",
    "import re"
   ]
  },
  {
   "cell_type": "markdown",
   "metadata": {
    "deletable": true,
    "editable": true
   },
   "source": [
    "We will be using [pandas](http://pandas.pydata.org/) to read all the data from a csv file and prepare it for data handling as a dataframe object. Webget is a custom library written by us to download a file at a direct link location. Next, [os](https://docs.python.org/2/library/os.html) is used to get the destination of the file platform non-specific. Next, [urlparse](https://docs.python.org/2/library/urlparse.html) is used in conjunction with our webget to wellform a url. Finally, [re](https://docs.python.org/2/library/re.html) is used to split non-digits from a data entry using a regular expression. "
   ]
  },
  {
   "cell_type": "markdown",
   "metadata": {
    "deletable": true,
    "editable": true
   },
   "source": [
    "To download the csv file we simply make the following implemetation using webget"
   ]
  },
  {
   "cell_type": "code",
   "execution_count": 7,
   "metadata": {
    "collapsed": true,
    "deletable": true,
    "editable": true
   },
   "outputs": [],
   "source": [
    "def download(url):\n",
    "    #webget.download(url)\n",
    "    #return os.path.basename(urlparse(url).path)\n",
    "    # Getting the csv file via webget from github downloads a malformed csv that contains HTML tags, so we have to do it manually\n",
    "    return \"./database.csv\""
   ]
  },
  {
   "cell_type": "markdown",
   "metadata": {
    "deletable": true,
    "editable": true
   },
   "source": [
    "We read all the rows and columns of the csv and prepare a DataFrame object of them using pandas"
   ]
  },
  {
   "cell_type": "code",
   "execution_count": null,
   "metadata": {
    "collapsed": true,
    "deletable": true,
    "editable": true
   },
   "outputs": [],
   "source": [
    "def read_from_csv(filename):\n",
    "    data = pd.read_csv(filename)\n",
    "    data_no_nan = set_missing_values_to_0(data)\n",
    "    return data_no_nan"
   ]
  },
  {
   "cell_type": "markdown",
   "metadata": {
    "deletable": true,
    "editable": true
   },
   "source": [
    "Notice how we make use of the custom method we have made, set_missing_values_to_0, to handle all the NaN values in the dataset"
   ]
  },
  {
   "cell_type": "code",
   "execution_count": 9,
   "metadata": {
    "collapsed": true,
    "deletable": true,
    "editable": true
   },
   "outputs": [],
   "source": [
    "def set_missing_values_to_0(data):\n",
    "    return data.fillna(0.0)"
   ]
  },
  {
   "cell_type": "code",
   "execution_count": null,
   "metadata": {
    "collapsed": true,
    "deletable": true,
    "editable": true
   },
   "outputs": [],
   "source": [
    "The dataset has a mix of values that are floats and strings. To get around this we need a method"
   ]
  },
  {
   "cell_type": "code",
   "execution_count": 10,
   "metadata": {
    "collapsed": true,
    "deletable": true,
    "editable": true
   },
   "outputs": [],
   "source": [
    "def remove_non_digits_and_float_cast(rowstr, index):\n",
    "    temp = re.sub(\"[^0-9]\", \"\", rowstr)\n",
    "    temp = temp.strip()\n",
    "    if index != 341:\n",
    "        temp = float(temp)\n",
    "    else:\n",
    "        temp = 0;\n",
    "    return temp"
   ]
  },
  {
   "cell_type": "markdown",
   "metadata": {
    "deletable": true,
    "editable": true
   },
   "source": [
    "The method will take an entry from the dataset as well as an index. Then we will split that string using a regular expression to exclude all non digits. Finally, we evaluate on index. The dataset has one specific row, 341, that is blank. It seems to be a bug, but a temporary fix is to ignore that specific row for now."
   ]
  },
  {
   "cell_type": "markdown",
   "metadata": {
    "deletable": true,
    "editable": true
   },
   "source": [
    "First let us declare everything we need in a method definition"
   ]
  },
  {
   "cell_type": "code",
   "execution_count": null,
   "metadata": {
    "collapsed": true,
    "deletable": true,
    "editable": true
   },
   "outputs": [],
   "source": [
    "def ex4_lightest_satellite(data):\n",
    "    satellite_owner = \"\"\n",
    "    satellite_owner_country = \"\"\n",
    "    satellite_name = \"\"\n",
    "    satellite_weight = 10000.0;\n",
    "    #Row 341 has a blank 'white' empty space for no apparent reason. I hard code my way around it. Help?\n",
    "    index = 0"
   ]
  },
  {
   "cell_type": "markdown",
   "metadata": {
    "deletable": true,
    "editable": true
   },
   "source": [
    "Next, we will implement the iterative process of going through the data set and discovering the lowest value every time. Once we have iterated all the way through, we will know our winner. On the way we have to evaluate on the entries to discover if they are strings or float and make use of our handler method when appropriate. Add the following code to our ex4 method"
   ]
  },
  {
   "cell_type": "code",
   "execution_count": null,
   "metadata": {
    "collapsed": false,
    "deletable": true,
    "editable": true
   },
   "outputs": [],
   "source": [
    "for row in data.iterrows():\n",
    "        #Is the index a string? If yes, it contains non-digits we need to remove\n",
    "        if type( row[1][16]) is str:\n",
    "            #Call to method that handles stripping our entry using a regular expression\n",
    "            temp = remove_non_digits_and_float_cast(row[1][16], index)\n",
    "            #If the weight is 0, then it was one of the NaN values we handled and it doesn't count\n",
    "            if temp == 0:\n",
    "                pass\n",
    "            else:\n",
    "                #King of the Hill implementation\n",
    "                if temp < satellite_weight:\n",
    "                    satellite_name = row[1][0]\n",
    "                    satellite_owner_country = row[1][1]\n",
    "                    satellite_owner = row[1][2]\n",
    "                    satellite_weight = temp\n",
    "            index += 1\n",
    "        else:\n",
    "            #The entry is already a float, so we can apply our gymnastics immediately\n",
    "            if row[1][16] != 0:\n",
    "                if row[1][16] < satellite_weight:\n",
    "                    satellite_name = row[1][0]\n",
    "                    satellite_owner_country = row[1][1]\n",
    "                    satellite_owner = row[1][2]\n",
    "                    satellite_weight = row[1][16]\n",
    "                index += 1\n",
    "            else:\n",
    "                pass"
   ]
  },
  {
   "cell_type": "markdown",
   "metadata": {
    "deletable": true,
    "editable": true
   },
   "source": [
    "Finally, we need but return the result of our operation. Add the following to our ex4 method"
   ]
  },
  {
   "cell_type": "code",
   "execution_count": null,
   "metadata": {
    "collapsed": true,
    "deletable": true,
    "editable": true
   },
   "outputs": [],
   "source": [
    "#The answer to the question is stored in 3 variables        \n",
    "    return satellite_owner_country + \" is the country with the lightest satellite weighing in at: \" \\\n",
    "    + str(satellite_weight) + \" kilograms\" + \\\n",
    "    \", called: \" + satellite_name + \", belonging to the \" + satellite_owner"
   ]
  },
  {
   "cell_type": "markdown",
   "metadata": {
    "deletable": true,
    "editable": true
   },
   "source": [
    "### The Result\n",
    "![image](http://i66.tinypic.com/15iauxs.png)"
   ]
  },
  {
   "cell_type": "markdown",
   "metadata": {
    "deletable": true,
    "editable": true
   },
   "source": [
    "## Question 5\n",
    "Compare the usage of satelites, between the 5 poorest countries and the 5 welthiest countries, according to the HDI dataset (see first dataset), plotting optional."
   ]
  },
  {
   "cell_type": "code",
   "execution_count": null,
   "metadata": {
    "collapsed": true,
    "deletable": true,
    "editable": true
   },
   "outputs": [],
   "source": []
  }
 ],
 "metadata": {
  "kernelspec": {
   "display_name": "Python 3",
   "language": "python",
   "name": "python3"
  },
  "language_info": {
   "codemirror_mode": {
    "name": "ipython",
    "version": 3
   },
   "file_extension": ".py",
   "mimetype": "text/x-python",
   "name": "python",
   "nbconvert_exporter": "python",
   "pygments_lexer": "ipython3",
   "version": "3.4.3"
  }
 },
 "nbformat": 4,
 "nbformat_minor": 2
}
