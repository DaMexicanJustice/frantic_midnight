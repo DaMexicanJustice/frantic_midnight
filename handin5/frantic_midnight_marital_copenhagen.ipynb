{
 "cells": [
  {
   "cell_type": "markdown",
   "metadata": {
    "deletable": true,
    "editable": true
   },
   "source": [
    "# The Dataset\n",
    "Explore the distribution of the marital status' of the inhabitants Copenhagen\n",
    "\n",
    "CSV file:\n",
    "\n",
    "http://data.kk.dk/dataset/9070067f-ab57-41cd-913e-bc37bfaf9acd/resource/9fbab4aa-1ee0-4d25-b2b4-b7b63537d2ec/download/befkbhalderkoencivst.csv>\n",
    "\n",
    "Source:\n",
    "\n",
    "http://data.kk.dk/dataset/9070067f-ab57-41cd-913e-bc37bfaf9acd/resource/9fbab4aa-1ee0-4d25-b2b4-b7b63537d2ec\n",
    "\n",
    "The dataset provided contains ~174.000 observations from 1992 - 2015, with the following columns:\n",
    "\n",
    "AAR: Which year the observation was made\n",
    "\n",
    "BYDEL: Which part of the city, described by an integer contained in following dict; 1=Indre By, 2=Østerbro, 3=Nørrebro, 4=Vesterbro/Kgs. Enghave, 5=Valby, 6=Vanløse, 7=Brønshøj-Husum, 8=Bispebjerg, 9=Amager Øst, 10=Amager Vest, 99=Udenfor inddeling\n",
    "\n",
    "ALDER: The age of the observed people\n",
    "\n",
    "CIVST: Marital Status, described by an upper-case character contained in the following dict: E=Widdow, F=Divorced, G=Maried, L=Oldest living partner, O=Dissolved partnership, P=Registered partnership, U=Unmarried\n",
    "\n",
    "KOEN: Gender of observed people, described by an integer contained in the following dict: 1=Male, 2=Female\n",
    "\n",
    "PERSONER: Number of observations with the given features of the row\n",
    "\n",
    "## Questions\n",
    "1. Use matplotlib to show the distribution of the following four categories over the time of 1992 - 2015\n",
    "  - Males between age 18 and 30\n",
    "  - Females between age 18 and 30\n",
    "  - Males age 50+\n",
    "  - Females age 50+<br /> <br />\n",
    "2. Use matplotlib to plot a bar-char showing how many single males and females of age 18 to 30, are living in BYDEL 1, 2 and 3 over the time 1992 - 2015<br /> <br />\n",
    "3. Find the three most populated city parts(BYDEL), in 1992, 2000 and 2015<br /> <br />\n",
    "4. Create to pie-charts, showing the distribution of marital status' in bydel 1, 2 and 3 in year 2000 and 2015<br /> <br />\n",
    "5. Make a histogram of the age distribution in all of the municipality of Copenhangen<br /> <br />"
   ]
  },
  {
   "cell_type": "code",
   "execution_count": 74,
   "metadata": {
    "collapsed": false,
    "deletable": true,
    "editable": true
   },
   "outputs": [],
   "source": [
    "# the following line is jupyter notebook specific \n",
    "%matplotlib inline"
   ]
  },
  {
   "cell_type": "markdown",
   "metadata": {
    "deletable": true,
    "editable": true
   },
   "source": [
    "## Question 1\n",
    "Use matplotlib to show the distribution of the following four categories over the time of 1992 - 2015\n",
    "  - Males between age 18 and 30\n",
    "  - Females between age 18 and 30\n",
    "  - Males age 50+\n",
    "  - Females age 50+"
   ]
  },
  {
   "cell_type": "code",
   "execution_count": 31,
   "metadata": {
    "collapsed": true,
    "deletable": true,
    "editable": true
   },
   "outputs": [],
   "source": []
  },
  {
   "cell_type": "markdown",
   "metadata": {
    "deletable": true,
    "editable": true
   },
   "source": [
    "## Question 2\n",
    "Use matplotlib to plot a bar-char showing how many single males and females of age 18 to 30, are living in BYDEL 1, 2 and 3 over the time 1992 - 2015"
   ]
  },
  {
   "cell_type": "code",
   "execution_count": 40,
   "metadata": {
    "collapsed": true,
    "deletable": true,
    "editable": true
   },
   "outputs": [],
   "source": []
  },
  {
   "cell_type": "markdown",
   "metadata": {
    "deletable": true,
    "editable": true
   },
   "source": [
    "## Question 3\n",
    "Find the three most populated city parts(BYDEL), in 1992, 2000 and 2015"
   ]
  },
  {
   "cell_type": "code",
   "execution_count": null,
   "metadata": {
    "collapsed": true,
    "deletable": true,
    "editable": true
   },
   "outputs": [],
   "source": []
  },
  {
   "cell_type": "markdown",
   "metadata": {
    "collapsed": true,
    "deletable": true,
    "editable": true
   },
   "source": [
    "## Question 4\n",
    "Create to pie-charts, showing the distribution of marital status' in bydel 1, 2 and 3 in year 2000 and 2015"
   ]
  },
  {
   "cell_type": "code",
   "execution_count": null,
   "metadata": {
    "collapsed": false,
    "deletable": true,
    "editable": true
   },
   "outputs": [],
   "source": []
  },
  {
   "cell_type": "markdown",
   "metadata": {
    "deletable": true,
    "editable": true
   },
   "source": [
    "## Question 5\n",
    "Make a histogram of the age distribution in all of the municipality of Copenhangen"
   ]
  },
  {
   "cell_type": "code",
   "execution_count": null,
   "metadata": {
    "collapsed": true
   },
   "outputs": [],
   "source": []
  }
 ],
 "metadata": {
  "kernelspec": {
   "display_name": "Python 3",
   "language": "python",
   "name": "python3"
  },
  "language_info": {
   "codemirror_mode": {
    "name": "ipython",
    "version": 3
   },
   "file_extension": ".py",
   "mimetype": "text/x-python",
   "name": "python",
   "nbconvert_exporter": "python",
   "pygments_lexer": "ipython3",
   "version": "3.4.3"
  }
 },
 "nbformat": 4,
 "nbformat_minor": 2
}
