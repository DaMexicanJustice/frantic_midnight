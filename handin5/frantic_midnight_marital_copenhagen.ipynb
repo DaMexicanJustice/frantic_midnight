{
 "cells": [
  {
   "cell_type": "markdown",
   "metadata": {
    "deletable": true,
    "editable": true
   },
   "source": [
    "# The Dataset\n",
    "Explore the distribution of the marital status' of the inhabitants Copenhagen\n",
    "\n",
    "CSV file:\n",
    "\n",
    "http://data.kk.dk/dataset/9070067f-ab57-41cd-913e-bc37bfaf9acd/resource/9fbab4aa-1ee0-4d25-b2b4-b7b63537d2ec/download/befkbhalderkoencivst.csv>\n",
    "\n",
    "Source:\n",
    "\n",
    "http://data.kk.dk/dataset/9070067f-ab57-41cd-913e-bc37bfaf9acd/resource/9fbab4aa-1ee0-4d25-b2b4-b7b63537d2ec\n",
    "\n",
    "The dataset provided contains ~174.000 observations from 1992 - 2015, with the following columns:\n",
    "\n",
    "AAR: Which year the observation was made\n",
    "\n",
    "BYDEL: Which part of the city, described by an integer contained in following dict; 1=Indre By, 2=Østerbro, 3=Nørrebro, 4=Vesterbro/Kgs. Enghave, 5=Valby, 6=Vanløse, 7=Brønshøj-Husum, 8=Bispebjerg, 9=Amager Øst, 10=Amager Vest, 99=Udenfor inddeling\n",
    "\n",
    "ALDER: The age of the observed people\n",
    "\n",
    "CIVST: Marital Status, described by an upper-case character contained in the following dict: E=Widdow, F=Divorced, G=Maried, L=Oldest living partner, O=Dissolved partnership, P=Registered partnership, U=Unmarried\n",
    "\n",
    "KOEN: Gender of observed people, described by an integer contained in the following dict: 1=Male, 2=Female\n",
    "\n",
    "PERSONER: Number of observations with the given features of the row\n",
    "\n",
    "## Questions\n",
    "1. Use matplotlib to show the distribution of the following four categories over the time of 1992 - 2015\n",
    "  - Males between age 18 and 30\n",
    "  - Females between age 18 and 30\n",
    "  - Males age 50+\n",
    "  - Females age 50+<br /> <br />\n",
    "2. Use matplotlib to plot a bar-char showing how many single males and females of age 18 to 30, are living in BYDEL 1, 2 and 3 over the time 1992 - 2015<br /> <br />\n",
    "3. Find the three most populated city parts(BYDEL), in 1992, 2000 and 2015<br /> <br />\n",
    "4. Create to pie-charts, showing the distribution of marital status' in bydel 1, 2 and 3 in year 2000 and 2015<br /> <br />\n",
    "5. Make a histogram of the age distribution in all of the municipality of Copenhangen<br /> <br />\n",
    "\n",
    "## Code before the questions\n",
    "First we need to prepare a python file to contain every solution to the above questions. Our solution will use the same modules throughout and there is no need to import those every time for every solution. Instead, we do all our prep-work here.\n",
    "\n",
    "### Modules"
   ]
  },
  {
   "cell_type": "code",
   "execution_count": 1,
   "metadata": {
    "collapsed": true
   },
   "outputs": [],
   "source": [
    "import pandas as pd\n",
    "import matplotlib.pyplot as plt\n",
    "import webget\n",
    "from collections import defaultdict\n",
    "from urllib.parse import urlparse\n",
    "import os\n",
    "import heapq"
   ]
  },
  {
   "cell_type": "markdown",
   "metadata": {},
   "source": [
    "We will be using [pandas](http://pandas.pydata.org/) to read all the data from a csv file and prepare it for data handling as a dataframe object. Webget is a custom library written by us to download a file at a direct link location. Next, [os](https://docs.python.org/2/library/os.html) is used to get the destination of the file platform non-specific. Next, [urlparse](https://docs.python.org/2/library/urlparse.html) is used in conjunction with our webget to wellform a url. Next, [heapq](https://docs.python.org/2/library/heapq.html), which is a module that gives us access to things like the [heapsort](https://en.wikipedia.org/wiki/Heapsort) algorithm. Collections contain a [defaultdict](https://docs.python.org/2/library/collections.html) object we will be using as our data structure, which has a useful lamdas:0 approach for setting up new keys with default values. Finally, we have [pyplot](http://matplotlib.org/) for plotting our data. \n",
    "\n",
    "### Getting data ready to handle\n",
    "In order to do any data handling, we need to fetch that data and prepare it for handling. To do so we will use webget to download a csv from a target destination\n",
    "\n",
    "[Destination](http://data.kk.dk/dataset/9070067f-ab57-41cd-913e-bc37bfaf9acd/resource/9fbab4aa-1ee0-4d25-b2b4-b7b63537d2ec/download/befkbhalderkoencivst.csv)\n",
    "\n",
    "Webget has a download function which retrieves a file at a destination and os returns the path of the file so we know where to open it. "
   ]
  },
  {
   "cell_type": "code",
   "execution_count": null,
   "metadata": {
    "collapsed": true
   },
   "outputs": [],
   "source": [
    "def download(link):\n",
    "    file = webget.download(link)\n",
    "    return os.path.basename(urlparse(link).path)"
   ]
  },
  {
   "cell_type": "markdown",
   "metadata": {},
   "source": [
    "Next up we will prepare a dataframe object using pandas from the csv file we got. It takes a csv file as src and returns a dataframe object using pandas as pd"
   ]
  },
  {
   "cell_type": "code",
   "execution_count": null,
   "metadata": {
    "collapsed": true
   },
   "outputs": [],
   "source": [
    "def csv_to_df(src):\n",
    "    return pd.read_csv(src)"
   ]
  },
  {
   "cell_type": "markdown",
   "metadata": {},
   "source": [
    "### Plotting\n",
    "Next up we will provide you with 4 plotting methods that each produce a different type of plot. You can use either of them for experimentation or the ones we suggest (to best solve the questions). What is important to understand is that they each take the same parameters, which are 'src' containing the data to be plotted (a dict for instance), and an optional title. (displayable)"
   ]
  },
  {
   "cell_type": "code",
   "execution_count": 3,
   "metadata": {
    "collapsed": true
   },
   "outputs": [],
   "source": [
    "def make_barplot(src, title=\"Untitled\"):\n",
    "    plt.bar(range(len(src)), src.values(), align='center')\n",
    "    plt.xticks(range(len(src)), list(src.keys()))\n",
    "    plt.title(title)\n",
    "    plt.show()"
   ]
  },
  {
   "cell_type": "code",
   "execution_count": 4,
   "metadata": {
    "collapsed": true
   },
   "outputs": [],
   "source": [
    "def make_scatterplot(src, title=\"Untitled\"):\n",
    "    plt.scatter(list(src.keys()), list(src.values()), c=list(src.values()), cmap=plt.cm.Blues, edgecolor='none', s=40)\n",
    "    plt.title(title)\n",
    "    plt.show()"
   ]
  },
  {
   "cell_type": "code",
   "execution_count": 5,
   "metadata": {
    "collapsed": true
   },
   "outputs": [],
   "source": [
    "def make_plot(src, title=\"Untitled\"):\n",
    "    plt.plot(list(src.keys()), list(src.values()), linewidth=5)\n",
    "    plt.title(title)\n",
    "    plt.show()"
   ]
  },
  {
   "cell_type": "markdown",
   "metadata": {},
   "source": [
    "The next plotting function takes an additional parameter, which is used for labels on the x-axis. And it plots multiple times as well as used for one of the upcoming solutions"
   ]
  },
  {
   "cell_type": "code",
   "execution_count": 6,
   "metadata": {
    "collapsed": true
   },
   "outputs": [],
   "source": [
    "def make_multiplot(src_list, my_labels, title=\"Untitled\"):\n",
    "    index = 0\n",
    "    \n",
    "    for src in src_list:\n",
    "        plt.plot(list(src.keys()), list(src.values()), linewidth=5, label=my_labels[index])\n",
    "        index += 1\n",
    "    plt.title(title)\n",
    "    plt.legend(loc=\"upper left\", bbox_to_anchor=[0, 1],ncol=2, shadow=True, title=\"Legend\", fancybox=True)\n",
    "    plt.show()"
   ]
  },
  {
   "cell_type": "code",
   "execution_count": 9,
   "metadata": {
    "collapsed": true
   },
   "outputs": [],
   "source": [
    "def just_plot(t5_k, t5_v):\n",
    "    sizes = [215, 130, 245, 210]\n",
    "    # colors = ['gold', 'yellowgreen', 'lightcoral', 'white', 'red']\n",
    "    #explode = (0.1, 0.1, 0.1, 0.1, 0.1)  # explode 1st slice\n",
    "    plt.pie(t5_v,labels=t5_k,autopct='%1.1f%%', shadow=True, startangle=80)\n",
    " \n",
    "    plt.axis('equal')\n",
    "    plt.show()"
   ]
  },
  {
   "cell_type": "code",
   "execution_count": 10,
   "metadata": {
    "collapsed": true
   },
   "outputs": [],
   "source": [
    "def plot_5(age_distK, age_distV):\n",
    "    plt.bar(age_distK, age_distV, width=0.5, linewidth=0, align='center')\n",
    "    plt.ticklabel_format(useOffset=False)\n",
    "    plt.axis([0, max(age_distK) + 10, 0, 2600])\n",
    "    title = 'Distribution of {} peoples AGE in the CPH municipality'.format(sum(age_distV))\n",
    "    plt.title(title, fontsize=12)\n",
    "    plt.xlabel(\"Ages\", fontsize=10)\n",
    "    plt.ylabel(\"Amount of people\", fontsize=15)\n",
    "    plt.tick_params(axis='both', which='major', labelsize=15)\n",
    "    plt.show()"
   ]
  },
  {
   "cell_type": "markdown",
   "metadata": {},
   "source": [
    "The final plot function takes two dictionaties and their labels as well as a mandatory parameter for title."
   ]
  },
  {
   "cell_type": "code",
   "execution_count": 7,
   "metadata": {
    "collapsed": true
   },
   "outputs": [],
   "source": [
    "def something_plot(dict_a, dict_b, label_a, label_b, name):\n",
    "    males = list(dict_a.values())\n",
    "    females = list(dict_b.values())\n",
    "    indexes = list(dict_a.keys())\n",
    "    \n",
    "    p1 = plt.bar(indexes, females, width=0.5, color=\"#d62728\")\n",
    "    p2 = plt.bar(indexes, males, width=0.5, bottom=females)\n",
    "    plt.title(name)\n",
    "    plt.legend((p1, p2), (label_b, label_a))\n",
    "    plt.show()"
   ]
  },
  {
   "cell_type": "code",
   "execution_count": 74,
   "metadata": {
    "collapsed": false,
    "deletable": true,
    "editable": true
   },
   "outputs": [],
   "source": [
    "# the following line is jupyter notebook specific \n",
    "%matplotlib inline"
   ]
  },
  {
   "cell_type": "markdown",
   "metadata": {
    "deletable": true,
    "editable": true
   },
   "source": [
    "## Question 1\n",
    "Use matplotlib to show the distribution of the following four categories over the time of 1992 - 2015\n",
    "  - Males between age 18 and 30\n",
    "  - Females between age 18 and 30\n",
    "  - Males age 50+\n",
    "  - Females age 50+"
   ]
  },
  {
   "cell_type": "markdown",
   "metadata": {
    "deletable": true,
    "editable": true
   },
   "source": [
    "## Question 2\n",
    "Use matplotlib to plot a bar-char showing how many single males and females of age 18 to 30, are living in BYDEL 1, 2 and 3 over the time 1992 - 2015"
   ]
  },
  {
   "cell_type": "markdown",
   "metadata": {
    "deletable": true,
    "editable": true
   },
   "source": [
    "> We made the assumption that single means that you are neither G (Married) nor P (Registered Partnership)"
   ]
  },
  {
   "cell_type": "markdown",
   "metadata": {
    "collapsed": true,
    "deletable": true,
    "editable": true
   },
   "source": [
    "![](bydel1.png)"
   ]
  },
  {
   "cell_type": "markdown",
   "metadata": {
    "deletable": true,
    "editable": true
   },
   "source": [
    "![](bydel2.png)"
   ]
  },
  {
   "cell_type": "markdown",
   "metadata": {
    "deletable": true,
    "editable": true
   },
   "source": [
    "![](bydel3.png)"
   ]
  },
  {
   "cell_type": "markdown",
   "metadata": {
    "deletable": true,
    "editable": true
   },
   "source": [
    "![](alle_bydele.png)"
   ]
  },
  {
   "cell_type": "markdown",
   "metadata": {
    "deletable": true,
    "editable": true
   },
   "source": [
    "## Question 3\n",
    "Find the three most populated city parts(BYDEL), in 1992, 2000 and 2015"
   ]
  },
  {
   "cell_type": "markdown",
   "metadata": {
    "collapsed": true,
    "deletable": true,
    "editable": true
   },
   "source": [
    "Download befkbhalderkoencivst.csv into ./befkbhalderkoencivst.csv\n",
    "\n",
    "- Top 3 City parts by population in 1992: ['Nørrebro', 'Østerbro', 'Vesterbro/Kgs. Enghave']\n",
    "- Top 3 City parts by population in 2000: ['Østerbro', 'Nørrebro', 'Indre By']\n",
    "- Top 3 City parts by population in 2015: ['Østerbro', 'Indre By', 'Nørrebro']"
   ]
  },
  {
   "cell_type": "markdown",
   "metadata": {},
   "source": [
    "### Result\n",
    "![image](http://i67.tinypic.com/1zlanaq.png)\n",
    "\n",
    "### Solution\n",
    "Prepare a function that goes by a name related to question 3. We have called it ex3. It needs to take a dataframe object as parameter (which contains all the data we prepared). Next up, we prepare 3 defaultdicts giving them a lambda expression. This will be used to default a new key entry to 0 as we iterate our for loop later.\n",
    "\n",
    "In order to do the data handling, we iterate over every tuple in our dataframe and evaluate on the particular rows. First if-conditional evaluates whether the row containing [year] is either 1992, 2000 or the year 2015. If that is the case, then we will count up corresponding to the person in that city part that year. "
   ]
  },
  {
   "cell_type": "code",
   "execution_count": 11,
   "metadata": {
    "collapsed": true
   },
   "outputs": [],
   "source": [
    "def ex3(df):\n",
    "    winner_1992 = defaultdict(lambda: 0)\n",
    "    winner_2000 = defaultdict(lambda: 0)\n",
    "    winner_2015 = defaultdict(lambda: 0)\n",
    "    \n",
    "    for row in df.itertuples():\n",
    "        if row[1] == 1992:\n",
    "            winner_1992[row[2]] += 1\n",
    "        if row[1] == 2000:\n",
    "            winner_2000[row[2]] += 1\n",
    "        if row[1] == 2015:\n",
    "            winner_2015[row[2]] += 1\n",
    "     \n",
    "    print(\"Top 3 City parts by population in 1992: \" + str(lookup_citypart(get_n_largest(winner_1992, 3))))\n",
    "    print(\"Top 3 City parts by population in 2000: \" + str(lookup_citypart(get_n_largest(winner_2000, 3))))\n",
    "    print(\"Top 3 City parts by population in 2015: \" + str(lookup_citypart(get_n_largest(winner_2015, 3))))"
   ]
  },
  {
   "cell_type": "markdown",
   "metadata": {},
   "source": [
    "Our three defaultdicts now contain our counts and we need to find the 3 keys that have the highest count. To do so, we make use of our Python module heapq to find the n-largest-elements in a container. \n",
    "\n",
    "We have to write a function to do that, however.\n",
    "get_n_largest takes a dictionary d and an integer n corresponding to how many elements we want from that dict"
   ]
  },
  {
   "cell_type": "code",
   "execution_count": 12,
   "metadata": {
    "collapsed": true
   },
   "outputs": [],
   "source": [
    "def get_n_largest(d, n):\n",
    "    return heapq.nlargest(n, d, key=d.get)"
   ]
  },
  {
   "cell_type": "markdown",
   "metadata": {},
   "source": [
    "Next up we don't want to print 3 integers (that corresponds to a city-part), instead we want to print out the name of that city-part as a string. To do so we need to create a function.\n",
    "\n",
    "We feed lookup_citypart a defaultdict (the number of the city-part) and based on the data set and information provided, we know which integer corresponds to which city, so we can do the convertion manually.\n",
    "\n",
    "Since it is a collection, we need a for loop to iterate each "
   ]
  },
  {
   "cell_type": "code",
   "execution_count": 13,
   "metadata": {
    "collapsed": true
   },
   "outputs": [],
   "source": [
    "def lookup_citypart(n):\n",
    "    res = []\n",
    "    \n",
    "    parts = {\n",
    "        1: \"Indre By\",\n",
    "        2: \"Østerbro\",\n",
    "        3: \"Nørrebro\",\n",
    "        4: \"Vesterbro/Kgs. Enghave\",\n",
    "        5: \"Valby\",\n",
    "        6: \"Vanløse\",\n",
    "        7: \"Brønshøj-Husum\",\n",
    "        8: \"Bispebjerg\",\n",
    "        9: \"Amager Øst,\",\n",
    "        10: \"Amager Vest\",\n",
    "        99: \"Udenfor inddeling\"\n",
    "    }\n",
    "    \n",
    "    for x in n:\n",
    "        res.append(parts[x])\n",
    "    return res"
   ]
  },
  {
   "cell_type": "markdown",
   "metadata": {
    "collapsed": true,
    "deletable": true,
    "editable": true
   },
   "source": [
    "## Question 4\n",
    "Create to pie-charts, showing the distribution of marital status' in bydel 1, 2 and 3 in year 2000 and 2015"
   ]
  },
  {
   "cell_type": "code",
   "execution_count": null,
   "metadata": {
    "collapsed": false,
    "deletable": true,
    "editable": true
   },
   "outputs": [],
   "source": []
  },
  {
   "cell_type": "markdown",
   "metadata": {
    "deletable": true,
    "editable": true
   },
   "source": [
    "## Question 5\n",
    "Make a histogram of the age distribution in all of the municipality of Copenhangen"
   ]
  },
  {
   "cell_type": "code",
   "execution_count": null,
   "metadata": {
    "collapsed": true,
    "deletable": true,
    "editable": true
   },
   "outputs": [],
   "source": []
  }
 ],
 "metadata": {
  "kernelspec": {
   "display_name": "Python 3",
   "language": "python",
   "name": "python3"
  },
  "language_info": {
   "codemirror_mode": {
    "name": "ipython",
    "version": 3
   },
   "file_extension": ".py",
   "mimetype": "text/x-python",
   "name": "python",
   "nbconvert_exporter": "python",
   "pygments_lexer": "ipython3",
   "version": "3.4.3"
  }
 },
 "nbformat": 4,
 "nbformat_minor": 2
}
