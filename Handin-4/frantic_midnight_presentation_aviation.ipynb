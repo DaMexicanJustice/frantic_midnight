{
 "cells": [
  {
   "cell_type": "markdown",
   "metadata": {
    "deletable": true,
    "editable": true
   },
   "source": [
    "# The Dataset\n",
    "Aviation Accident Database & Synopses\n",
    "\n",
    "Dataset on kaggle.com: https://www.kaggle.com/khsamaha/aviation-accident-database-synopses\n",
    "\n",
    "URL for webget download: [UPDATED] https://raw.githubusercontent.com/edipetres/Depressed_Year/master/Dataset_Assignment/AviationDataset.csv\n",
    "\n",
    "## Questions\n",
    "1. How do the flight phases (ex. take off, cruise, landing..) contribute to fatalities? Chart!\n",
    "2. Which 5 states saw the most injuries in the US? Show it on a barchart! *\n",
    "3. Which 5 aircraft models had the most injuries (fatal, serious, minor)? Show them on a piechart!\n",
    "4. What was the distribution of fatal injuries during the last 20 years? Show it on a barchart!\n",
    "5. [UPDATED] What was the survival rate (how many died / how many survived) for substantially damaged AND destroyed aircrafts since 1993, showing data for each year. Show results on a stacked bar plot. (see more in notebook 14 - Intro to plotting / example 62.) **\n",
    "\n",
    "### Notes\n",
    "Be wary of missing data in the columns\n",
    "\n",
    "*Injuries are counted from the Total Serious Injuries and Total Minor Injuries columns (by default fatal injuries are not counted here)\n",
    "\n",
    "** Survivals are counted from the three columns with injuries that are non-fatal (serious, minor injuries and uninjured)\n",
    "\n",
    "groupMembers = ['Emil Klausen', 'Edmond Petres, 'Lucas Fredmark', 'Plamen Getsov']"
   ]
  },
  {
   "cell_type": "code",
   "execution_count": null,
   "metadata": {
    "collapsed": true
   },
   "outputs": [],
   "source": [
    "# the following line is jupyter notebook specific \n",
    "%matplotlib inline"
   ]
  },
  {
   "cell_type": "markdown",
   "metadata": {
    "deletable": true,
    "editable": true
   },
   "source": [
    "## Question 1\n",
    "How do the flight phases (ex. take off, cruise, landing..) contribute to fatalities? Chart!"
   ]
  },
  {
   "cell_type": "code",
   "execution_count": 1,
   "metadata": {
    "collapsed": true,
    "deletable": true,
    "editable": true
   },
   "outputs": [],
   "source": [
    "import webget\n",
    "import pandas as pd\n",
    "import os\n",
    "from urllib.parse import urlparse\n",
    "import matplotlib.pyplot as plt\n",
    "import io\n",
    "import requests\n",
    "\n",
    "url = 'https://raw.githubusercontent.com/edipetres/Depressed_Year/master/Dataset_Assignment/AviationDataset.csv'\n",
    "s = requests.get(url).content\n",
    "data =pd.read_csv(io.StringIO(s.decode('ISO-8859-2')), delimiter=',', quotechar='\"')"
   ]
  },
  {
   "cell_type": "markdown",
   "metadata": {
    "collapsed": true,
    "deletable": true,
    "editable": true
   },
   "source": [
    "We go through the data set and checks if there's a phase of flight known otherwise it stays \"unknown\". Then we checks the amount of fatalities for that specific accident. We then add it to the right entry in the dictonary - if the entry doesn't exsist yet, we create it. At last we plot the dictonary. "
   ]
  },
  {
   "cell_type": "code",
   "execution_count": 3,
   "metadata": {
    "collapsed": true,
    "deletable": true,
    "editable": true
   },
   "outputs": [],
   "source": [
    "def distribution_of_fatalities(data):\n",
    "    distribution = {}\n",
    "    \n",
    "    for row in data.iterrows(): \n",
    "        \n",
    "        phase_of_flight = 'UNKNOWN'\n",
    "        fatalities = 0\n",
    "        \n",
    "        if pd.isnull(row[1][28]):\n",
    "            pass\n",
    "        else:\n",
    "            phase_of_flight = (row[1][28])\n",
    "            \n",
    "        try:\n",
    "            fatalities = int(row[1][23])\n",
    "        except ValueError:\n",
    "            pass        \n",
    "            \n",
    "            \n",
    "        if (phase_of_flight not in distribution.keys()):\n",
    "            distribution[phase_of_flight] = fatalities\n",
    "        else:\n",
    "            distribution[phase_of_flight] += fatalities\n",
    "    \n",
    "    sorted_keys = sorted(distribution, key=distribution.get) \n",
    "    \n",
    "    fatal_list = list(distribution.values())        \n",
    "    flight_phases = list(distribution.keys())\n",
    "\n",
    "    title = 'How do the flight phases contribute to fatalities?'\n",
    "    plt.title(title, fontsize=16)\n",
    "    \n",
    "    plt.xlabel(\"Flight Phase\", fontsize=11)\n",
    "    plt.ylabel(\"Number of fatalities\", fontsize=11)\n",
    "    plt.bar(range(len(distribution)), distribution.values(), width=0.75, linewidth=0.5, align='center')\n",
    "    plt.xticks(range(len(distribution)), flight_phases)\n",
    "    plt.tick_params(axis='both', which='major', labelsize=6)\n",
    "    plt.show()"
   ]
  },
  {
   "cell_type": "markdown",
   "metadata": {},
   "source": []
  },
  {
   "cell_type": "markdown",
   "metadata": {
    "deletable": true,
    "editable": true
   },
   "source": [
    "## Question 2\n",
    "Which 5 states saw the most injuries in the US? Show it on a barchart! *\n",
    "\n",
    "First we import the libraries that we need."
   ]
  },
  {
   "cell_type": "code",
   "execution_count": 12,
   "metadata": {
    "collapsed": true,
    "deletable": true,
    "editable": true
   },
   "outputs": [],
   "source": [
    "import pandas as pd\n",
    "import os\n",
    "import urllib.request as req\n",
    "from urllib.parse import urlparse\n",
    "import matplotlib.pyplot as plt\n",
    "import heapq"
   ]
  },
  {
   "cell_type": "code",
   "execution_count": null,
   "metadata": {
    "collapsed": false,
    "deletable": true,
    "editable": true
   },
   "outputs": [],
   "source": [
    "We then read the csv file, which was manually copied into a csv file."
   ]
  },
  {
   "cell_type": "code",
   "execution_count": 13,
   "metadata": {
    "collapsed": true,
    "deletable": true,
    "editable": true
   },
   "outputs": [],
   "source": [
    "data = pd.read_csv('Aviation.csv', quotechar='\"',skipinitialspace=True, delimiter=',', encoding='ISO-8859-2')"
   ]
  },
  {
   "cell_type": "code",
   "execution_count": 14,
   "metadata": {
    "collapsed": true,
    "deletable": true,
    "editable": true
   },
   "outputs": [],
   "source": [
    "def ex2_dict_of_injuries(data):\n",
    "    country = {}\n",
    "    for row in data.itertuples():\n",
    "        tmp = 0\n",
    "        if pd.notnull( row[25] ):\n",
    "            tmp += row[25]\n",
    "        if pd.notnull( row[26] ):\n",
    "            tmp += row[26]\n",
    "            \n",
    "        if (row[6] == \"United States\" in country):\n",
    "            country[row[5]] = tmp\n",
    "        else:\n",
    "            country.setdefault(row[6], tmp)\n",
    "    \n",
    "    return country"
   ]
  },
  {
   "cell_type": "code",
   "execution_count": null,
   "metadata": {
    "collapsed": false,
    "deletable": true,
    "editable": true
   },
   "outputs": [],
   "source": [
    "We first make an empty dictionay(country), then we make a for loop which wil iterate through some values in our data csv file.\n",
    "In this loop we have made a tmp integer to prepare values from the csv file(data). We here go through the tuples ([25],[26])\n",
    "which are minor and major injuries, if it isn't null it gets added to the tmp.\n",
    "We set row[6] to only take from \"United States\" and then insert the locations."
   ]
  },
  {
   "cell_type": "code",
   "execution_count": 15,
   "metadata": {
    "collapsed": true,
    "deletable": true,
    "editable": true
   },
   "outputs": [],
   "source": [
    "def top(c, n=None):\n",
    "    lis = heapq.nlargest(n, c, key=c.get) \n",
    "    dic = {}\n",
    "    for count in lis:\n",
    "        dic[count] = c.get(count)\n",
    "    return dic"
   ]
  },
  {
   "cell_type": "code",
   "execution_count": null,
   "metadata": {
    "collapsed": false,
    "deletable": true,
    "editable": true
   },
   "outputs": [],
   "source": [
    "Here the values gets sorted from the largest and down."
   ]
  },
  {
   "cell_type": "code",
   "execution_count": 24,
   "metadata": {
    "collapsed": true,
    "deletable": true,
    "editable": true
   },
   "outputs": [],
   "source": [
    "def dict_keys(d):\n",
    "    return list(d.keys())\n",
    "\n",
    "def dict_values(d):\n",
    "    return list(d.values())\n",
    "    \n",
    "def plot(key, value):\n",
    "    plt.bar(range(len(value)), value, width=0.5, linewidth=0, align='center')\n",
    "    plt.xticks(range(len(value)), key, size='small')\n",
    "    title = 'Most major and minor injuries in US states'\n",
    "    plt.title(title, fontsize=20)\n",
    "    plt.xlabel(\"US States/Locations\", fontsize=12)\n",
    "    plt.ylabel(\"Injuries\", fontsize=12)\n",
    "    plt.tick_params(axis='both', which='major', labelsize=6)\n",
    "    plt.show()"
   ]
  },
  {
   "cell_type": "code",
   "execution_count": null,
   "metadata": {
    "collapsed": false,
    "deletable": true,
    "editable": true
   },
   "outputs": [],
   "source": [
    "We make the keys and the values into a list and then print the result out."
   ]
  },
  {
   "cell_type": "code",
   "execution_count": 25,
   "metadata": {
    "collapsed": false,
    "deletable": true,
    "editable": true
   },
   "outputs": [
    {
     "data": {
      "image/png": "[encoded data removed]",
      "text/plain": [
       "<matplotlib.figure.Figure at 0x7fb8e0a0a400>"
      ]
     },
     "metadata": {},
     "output_type": "display_data"
    }
   ],
   "source": [
    "injury_dict = ex2_dict_of_injuries(data)\n",
    "top_5 = top(injury_dict,5)\n",
    "key = dict_keys(top_5)\n",
    "value = dict_values(top_5)\n",
    "plot(key, value)"
   ]
  },
  {
   "cell_type": "markdown",
   "metadata": {
    "deletable": true,
    "editable": true
   },
   "source": [
    "## Question 3\n",
    "Which 5 aircraft models had the most injuries (fatal, serious, minor)? Show them on a piechart!"
   ]
  },
  {
   "cell_type": "markdown",
   "metadata": {
    "deletable": true,
    "editable": true
   },
   "source": [
    "The first order of business is to import all the libraries that we need. For our solution to this question we will use the following:"
   ]
  },
  {
   "cell_type": "code",
   "execution_count": null,
   "metadata": {
    "collapsed": true,
    "deletable": true,
    "editable": true
   },
   "outputs": [],
   "source": [
    "import webget\n",
    "import pandas as pd\n",
    "import os\n",
    "from urllib.parse import urlparse\n",
    "import matplotlib.pyplot as plt\n",
    "import heapq"
   ]
  },
  {
   "cell_type": "markdown",
   "metadata": {
    "deletable": true,
    "editable": true
   },
   "source": [
    "We will be using [pandas](http://pandas.pydata.org/) to read all the data from a csv file and prepare it for data handling as a dataframe object. Webget is a custom library written by us to download a file at a direct link location. Next, [os](https://docs.python.org/2/library/os.html) is used to get the destination of the file platform non-specific. Next, [urlparse](https://docs.python.org/2/library/urlparse.html) is used in conjunction with our webget to wellform a url. Next, [heapq](https://docs.python.org/2/library/heapq.html), which is a module that gives us access to things like the [heapsort](https://en.wikipedia.org/wiki/Heapsort) algorithm."
   ]
  },
  {
   "cell_type": "markdown",
   "metadata": {
    "deletable": true,
    "editable": true
   },
   "source": [
    "Before we can do any data handling we must first download the necessary dataset. This is done using a simple webget application and implementing it in a method"
   ]
  },
  {
   "cell_type": "code",
   "execution_count": null,
   "metadata": {
    "collapsed": true,
    "deletable": true,
    "editable": true
   },
   "outputs": [],
   "source": [
    "def download_csv(url):\n",
    "    file = webget.download(url)\n",
    "    return os.path.basename(urlparse(url).path)"
   ]
  },
  {
   "cell_type": "markdown",
   "metadata": {
    "deletable": true,
    "editable": true
   },
   "source": [
    "The webget is a custom module made by us, if you don't have your own or prefer to use ours, simply create a new python file in the same directory as this file and paste the following:"
   ]
  },
  {
   "cell_type": "code",
   "execution_count": null,
   "metadata": {
    "collapsed": true,
    "deletable": true,
    "editable": true
   },
   "outputs": [],
   "source": [
    "import os\n",
    "import urllib.request as req\n",
    "from urllib.parse import urlparse\n",
    "import urllib\n",
    "\n",
    "def download(url, to=\"/tmp/\"):\n",
    "    urlParts = url.split('/')\n",
    "    filename = urlParts[-1]\n",
    "    #filepath can be set to anything by specifiying the filepath directory\n",
    "    to = \"./\"\n",
    "    filepath = to + filename;\n",
    "    file = req.urlretrieve(url, filepath)"
   ]
  },
  {
   "cell_type": "markdown",
   "metadata": {
    "deletable": true,
    "editable": true
   },
   "source": [
    "Next up is reading the csv file and converting it to a format that is more machine friendly. We use pandas here. The csv file available at the top uses a very specific encoding. Thus we must state that"
   ]
  },
  {
   "cell_type": "code",
   "execution_count": null,
   "metadata": {
    "collapsed": true,
    "deletable": true,
    "editable": true
   },
   "outputs": [],
   "source": [
    "def csv_to_df(csv):\n",
    "    return pd.read_csv(csv, encoding='ISO-8859-2')"
   ]
  },
  {
   "cell_type": "markdown",
   "metadata": {
    "deletable": true,
    "editable": true
   },
   "source": [
    "#### Data handling\n",
    "Now we need to extract the necessary data out of the dataset. The code is as follows"
   ]
  },
  {
   "cell_type": "code",
   "execution_count": null,
   "metadata": {
    "collapsed": true,
    "deletable": true,
    "editable": true
   },
   "outputs": [],
   "source": [
    "def ex3_dict_of_injuries(dataframe):\n",
    "    #Aircraft model: data[:,15]    Total Fatal Injuries: data[:,23]    Total Severe Injuries: data[:,24]    Total Mild Injuries: data[:,25]\n",
    "    aircrafts = {}\n",
    "    for row in dataframe.iterrows():\n",
    "        temp = 0\n",
    "        if pd.notnull( row[1][23] ):\n",
    "            temp += row[1][23]\n",
    "        if pd.notnull( row[1][24] ):\n",
    "            temp += row[1][24]\n",
    "        if pd.notnull( row[1][25] ):\n",
    "            temp += row[1][25]\n",
    "            \n",
    "        if row[1][15] in aircrafts:\n",
    "            aircrafts[row[1][15]] += temp\n",
    "        else:\n",
    "            aircrafts.setdefault(row[1][15], temp)\n",
    "    \n",
    "    return aircrafts"
   ]
  },
  {
   "cell_type": "markdown",
   "metadata": {
    "deletable": true,
    "editable": true
   },
   "source": [
    "Define a method with the dataframe as a parameter that we got from the previous method. Prepare an empty dictionary. For every row in the data (think rows and columns) we prepare a temp integer variable and then evaluate on the cells [1][23] [1][24] [1][25] which hold the values for injuries. If that value is not blank (dataset) or NaN(code equivalent) we add that value to temp. Finally, if the particular aircraft model in the cell [1][15] is a new one (does not exist in our dictionary) we create a new key entry with temp as its value. Or we use the existing and add temp to it.\n",
    "\n",
    "We now have a big dictionary with all the entries, however we need to find the top 5 in terms of highest temp value. We implement a method to do this for us:"
   ]
  },
  {
   "cell_type": "code",
   "execution_count": null,
   "metadata": {
    "collapsed": true,
    "deletable": true,
    "editable": true
   },
   "outputs": [],
   "source": [
    "def top(d, n=None):\n",
    "    li = heapq.nlargest(n, d, key=d.get) \n",
    "    di = {}\n",
    "    for ac in li:\n",
    "        di[ac] = d.get(ac)\n",
    "    return di"
   ]
  },
  {
   "cell_type": "markdown",
   "metadata": {
    "deletable": true,
    "editable": true
   },
   "source": [
    "The method takes the dictionary as a parameter and an optional value for how many elements we wish to extract. We use the module heapq to find the n largest elements and return the names of the elements (we don't have their values yet). We prepare an empty dictionary to contain the values as well as the keys. For every aircraft in our top list, we assign the name and the value.\n",
    "\n",
    "We have the result now. We need to plot it. To do so we need the keys for our x-axis and the values for our y-axis. To get them we need to return the keys/values of the dictionary but as a list. \n",
    "\n",
    "Implement:"
   ]
  },
  {
   "cell_type": "code",
   "execution_count": null,
   "metadata": {
    "collapsed": true,
    "deletable": true,
    "editable": true
   },
   "outputs": [],
   "source": [
    "def dict_keys(d):\n",
    "    return list(d.keys())\n",
    "\n",
    "def dict_values(d):\n",
    "    return list(d.values())"
   ]
  },
  {
   "cell_type": "markdown",
   "metadata": {
    "deletable": true,
    "editable": true
   },
   "source": [
    "We are now ready to plot, but we need to define the method that plots and how we want our plot using the matplotlib/pyplot module"
   ]
  },
  {
   "cell_type": "code",
   "execution_count": null,
   "metadata": {
    "collapsed": true,
    "deletable": true,
    "editable": true
   },
   "outputs": [],
   "source": [
    "def plot(t5_k, t5_v):\n",
    "    sizes = [215, 130, 245, 210]\n",
    "    colors = ['gold', 'yellowgreen', 'lightcoral', 'white', 'red']\n",
    "    explode = (0.1, 0.1, 0.1, 0.1, 0.1)  # explode 1st slice\n",
    "    plt.pie(t5_v, explode=explode, labels=t5_k, colors=colors,\n",
    "        autopct='%1.1f%%', shadow=True, startangle=80)\n",
    " \n",
    "    plt.axis('equal')\n",
    "    plt.show()"
   ]
  },
  {
   "cell_type": "markdown",
   "metadata": {
    "deletable": true,
    "editable": true
   },
   "source": [
    "This method needs to take two parameters (x, y). We specify the visual graphics sizes, colors, explode for style. And then finally we do a pie plot as requested using our values for x(t5_k) and for y(t5_v)\n",
    "\n",
    "### The Result\n",
    "![image](http://i66.tinypic.com/14x0vtd.png)"
   ]
  },
  {
   "cell_type": "markdown",
   "metadata": {
    "collapsed": true,
    "deletable": true,
    "editable": true
   },
   "source": [
    "## Question 4\n",
    "What was the distribution of fatal injuries during the last 20 years? Show it on a barchart!"
   ]
  },
  {
   "cell_type": "markdown",
   "metadata": {
    "deletable": true,
    "editable": true
   },
   "source": [
    "- Create dictionary of deaths per year\n",
    "- Read CSV with proper encoding\n",
    "- The first column is formatted like yyyyMMdd... We extract the year with a substring [0:4]\n",
    "- If the fatality count of the entry is not invalid, then increment\n",
    "- Simple bar plot"
   ]
  },
  {
   "cell_type": "code",
   "execution_count": null,
   "metadata": {
    "collapsed": false,
    "deletable": true,
    "editable": true
   },
   "outputs": [],
   "source": [
    "import pandas as pd\n",
    "import matplotlib.pyplot as plt\n",
    "from collections import defaultdict\n",
    "import math\n",
    "\n",
    "years_dict = defaultdict(lambda: 0)\n",
    "aviation_data = pd.read_csv(\"AviationDataset.csv\", encoding='ISO-8859-2')\n",
    "\n",
    "for row in aviation_data.itertuples():\n",
    "    tmp = row[1][0:4]\n",
    "    \n",
    "    if(math.isnan(row[24]) == False):\n",
    "        years_dict[tmp] += row[24]\n",
    "\n",
    "plt.bar(range(len(years_dict)), years_dict.values(), align='center')\n",
    "plt.xticks(range(len(years_dict)), list(years_dict.keys()))\n",
    "\n",
    "plt.show()"
   ]
  },
  {
   "cell_type": "markdown",
   "metadata": {
    "deletable": true,
    "editable": true
   },
   "source": [
    "![](figure_1.png)"
   ]
  },
  {
   "cell_type": "markdown",
   "metadata": {
    "deletable": true,
    "editable": true
   },
   "source": [
    "## Question 5\n",
    "[UPDATED] What was the survival rate (how many died / how many survived) for substantially damaged AND destroyed aircrafts since 1993, showing data for each year. Show results on a stacked bar plot. (see more in notebook 14 - Intro to plotting / example 62.)"
   ]
  },
  {
   "cell_type": "code",
   "execution_count": null,
   "metadata": {
    "collapsed": true,
    "deletable": true,
    "editable": true
   },
   "outputs": [],
   "source": []
  }
 ],
 "metadata": {
  "kernelspec": {
   "display_name": "Python 3",
   "language": "python",
   "name": "python3"
  },
  "language_info": {
   "codemirror_mode": {
    "name": "ipython",
    "version": 3
   },
   "file_extension": ".py",
   "mimetype": "text/x-python",
   "name": "python",
   "nbconvert_exporter": "python",
   "pygments_lexer": "ipython3",
   "version": "3.4.3"
  }
 },
 "nbformat": 4,
 "nbformat_minor": 2
}
