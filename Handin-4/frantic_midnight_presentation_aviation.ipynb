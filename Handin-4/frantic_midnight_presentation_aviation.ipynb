{
 "cells": [
  {
   "cell_type": "markdown",
   "metadata": {},
   "source": [
    "# The Dataset\n",
    "Aviation Accident Database & Synopses\n",
    "\n",
    "Dataset on kaggle.com: https://www.kaggle.com/khsamaha/aviation-accident-database-synopses\n",
    "\n",
    "URL for webget download: [UPDATED] https://raw.githubusercontent.com/edipetres/Depressed_Year/master/Dataset_Assignment/AviationDataset.csv\n",
    "\n",
    "## Questions\n",
    "### Human Development Index\n",
    "1. How do the flight phases (ex. take off, cruise, landing..) contribute to fatalities? Chart!\n",
    "2. Which 5 states saw the most injuries in the US? Show it on a barchart! *\n",
    "3. Which 5 aircraft models had the most injuries (fatal, serious, minor)? Show them on a piechart!\n",
    "4. What was the distribution of fatal injuries during the last 20 years? Show it on a barchart!\n",
    "5. [UPDATED] What was the survival rate (how many died / how many survived) for substantially damaged AND destroyed aircrafts since 1993, showing data for each year. Show results on a stacked bar plot. (see more in notebook 14 - Intro to plotting / example 62.) **\n",
    "\n",
    "### Notes\n",
    "Be wary of missing data in the columns\n",
    "\n",
    "*Injuries are counted from the Total Serious Injuries and Total Minor Injuries columns (by default fatal injuries are not counted here)\n",
    "\n",
    "** Survivals are counted from the three columns with injuries that are non-fatal (serious, minor injuries and uninjured)\n",
    "\n",
    "groupMembers = ['Emil Klausen', 'Edmond Petres, 'Lucas Fredmark', 'Plamen Getsov']"
   ]
  },
  {
   "cell_type": "markdown",
   "metadata": {},
   "source": [
    "## Question 1\n",
    "How do the flight phases (ex. take off, cruise, landing..) contribute to fatalities? Chart!"
   ]
  },
  {
   "cell_type": "code",
   "execution_count": null,
   "metadata": {
    "collapsed": true
   },
   "outputs": [],
   "source": []
  },
  {
   "cell_type": "markdown",
   "metadata": {},
   "source": [
    "## Question 2\n",
    "Which 5 states saw the most injuries in the US? Show it on a barchart! *"
   ]
  },
  {
   "cell_type": "code",
   "execution_count": null,
   "metadata": {
    "collapsed": true
   },
   "outputs": [],
   "source": []
  },
  {
   "cell_type": "markdown",
   "metadata": {},
   "source": [
    "## Question 3\n",
    "Which 5 aircraft models had the most injuries (fatal, serious, minor)? Show them on a piechart!"
   ]
  },
  {
   "cell_type": "markdown",
   "metadata": {},
   "source": [
    "The first order of business is to import all the libraries that we need. For our solution to this question we will use the following:"
   ]
  },
  {
   "cell_type": "code",
   "execution_count": null,
   "metadata": {
    "collapsed": true
   },
   "outputs": [],
   "source": [
    "import webget\n",
    "import pandas as pd\n",
    "import os\n",
    "from urllib.parse import urlparse\n",
    "import matplotlib.pyplot as plt\n",
    "import heapq"
   ]
  },
  {
   "cell_type": "markdown",
   "metadata": {},
   "source": [
    "We will be using [pandas](http://pandas.pydata.org/) to read all the data from a csv file and prepare it for data handling as a dataframe object. Webget is a custom library written by us to download a file at a direct link location. Next, [os](https://docs.python.org/2/library/os.html) is used to get the destination of the file platform non-specific. Next, [urlparse](https://docs.python.org/2/library/urlparse.html) is used in conjunction with our webget to wellform a url. Next, [heapq](https://docs.python.org/2/library/heapq.html), which is a module that gives us access to things like the [heapsort](https://en.wikipedia.org/wiki/Heapsort) algorithm."
   ]
  },
  {
   "cell_type": "markdown",
   "metadata": {},
   "source": [
    "Before we can do any data handling we must first download the necessary dataset. This is done using a simple webget application and implementing it in a method"
   ]
  },
  {
   "cell_type": "code",
   "execution_count": null,
   "metadata": {
    "collapsed": true
   },
   "outputs": [],
   "source": [
    "def download_csv(url):\n",
    "    file = webget.download(url)\n",
    "    return os.path.basename(urlparse(url).path)"
   ]
  },
  {
   "cell_type": "markdown",
   "metadata": {},
   "source": [
    "The webget is a custom module made by us, if you don't have your own or prefer to use ours, simply create a new python file in the same directory as this file and paste the following:"
   ]
  },
  {
   "cell_type": "code",
   "execution_count": null,
   "metadata": {
    "collapsed": true
   },
   "outputs": [],
   "source": [
    "import os\n",
    "import urllib.request as req\n",
    "from urllib.parse import urlparse\n",
    "import urllib\n",
    "\n",
    "def download(url, to=\"/tmp/\"):\n",
    "    urlParts = url.split('/')\n",
    "    filename = urlParts[-1]\n",
    "    #filepath can be set to anything by specifiying the filepath directory\n",
    "    to = \"./\"\n",
    "    filepath = to + filename;\n",
    "    file = req.urlretrieve(url, filepath)"
   ]
  },
  {
   "cell_type": "markdown",
   "metadata": {},
   "source": [
    "Next up is reading the csv file and converting it to a format that is more machine friendly. We use pandas here. The csv file available at the top uses a very specific encoding. Thus we must state that"
   ]
  },
  {
   "cell_type": "code",
   "execution_count": null,
   "metadata": {
    "collapsed": true
   },
   "outputs": [],
   "source": [
    "def csv_to_df(csv):\n",
    "    return pd.read_csv(csv, encoding='ISO-8859-2')"
   ]
  },
  {
   "cell_type": "markdown",
   "metadata": {},
   "source": [
    "#### Data handling\n",
    "Now we need to extract the necessary data out of the dataset. The code is as follows"
   ]
  },
  {
   "cell_type": "code",
   "execution_count": null,
   "metadata": {
    "collapsed": true
   },
   "outputs": [],
   "source": [
    "def ex3_dict_of_injuries(dataframe):\n",
    "    #Aircraft model: data[:,15]    Total Fatal Injuries: data[:,23]    Total Severe Injuries: data[:,24]    Total Mild Injuries: data[:,25]\n",
    "    aircrafts = {}\n",
    "    for row in dataframe.iterrows():\n",
    "        temp = 0\n",
    "        if pd.notnull( row[1][23] ):\n",
    "            temp += row[1][23]\n",
    "        if pd.notnull( row[1][24] ):\n",
    "            temp += row[1][24]\n",
    "        if pd.notnull( row[1][25] ):\n",
    "            temp += row[1][25]\n",
    "            \n",
    "        if row[1][15] in aircrafts:\n",
    "            aircrafts[row[1][15]] += temp\n",
    "        else:\n",
    "            aircrafts.setdefault(row[1][15], temp)\n",
    "    \n",
    "    return aircrafts"
   ]
  },
  {
   "cell_type": "markdown",
   "metadata": {},
   "source": [
    "Define a method with the dataframe as a parameter that we got from the previous method. Prepare an empty dictionary. For every row in the data (think rows and columns) we prepare a temp integer variable and then evaluate on the cells [1][23] [1][24] [1][25] which hold the values for injuries. If that value is not blank (dataset) or NaN(code equivalent) we add that value to temp. Finally, if the particular aircraft model in the cell [1][15] is a new one (does not exist in our dictionary) we create a new key entry with temp as its value. Or we use the existing and add temp to it.\n",
    "\n",
    "We now have a big dictionary with all the entries, however we need to find the top 5 in terms of highest temp value. We implement a method to do this for us:"
   ]
  },
  {
   "cell_type": "code",
   "execution_count": null,
   "metadata": {
    "collapsed": true
   },
   "outputs": [],
   "source": [
    "def top(d, n=None):\n",
    "    li = heapq.nlargest(n, d, key=d.get) \n",
    "    di = {}\n",
    "    for ac in li:\n",
    "        di[ac] = d.get(ac)\n",
    "    return di"
   ]
  },
  {
   "cell_type": "markdown",
   "metadata": {},
   "source": [
    "The method takes the dictionary as a parameter and an optional value for how many elements we wish to extract. We use the module heapq to find the n largest elements and return the names of the elements (we don't have their values yet). We prepare an empty dictionary to contain the values as well as the keys. For every aircraft in our top list, we assign the name and the value.\n",
    "\n",
    "We have the result now. We need to plot it. To do so we need the keys for our x-axis and the values for our y-axis. To get them we need to return the keys/values of the dictionary but as a list. \n",
    "\n",
    "Implement:"
   ]
  },
  {
   "cell_type": "code",
   "execution_count": null,
   "metadata": {
    "collapsed": true
   },
   "outputs": [],
   "source": [
    "def dict_keys(d):\n",
    "    return list(d.keys())\n",
    "\n",
    "def dict_values(d):\n",
    "    return list(d.values())"
   ]
  },
  {
   "cell_type": "markdown",
   "metadata": {},
   "source": [
    "We are now ready to plot, but we need to define the method that plots and how we want our plot using the matplotlib/pyplot module"
   ]
  },
  {
   "cell_type": "code",
   "execution_count": null,
   "metadata": {
    "collapsed": true
   },
   "outputs": [],
   "source": [
    "def plot(t5_k, t5_v):\n",
    "    sizes = [215, 130, 245, 210]\n",
    "    colors = ['gold', 'yellowgreen', 'lightcoral', 'white', 'red']\n",
    "    explode = (0.1, 0.1, 0.1, 0.1, 0.1)  # explode 1st slice\n",
    "    plt.pie(t5_v, explode=explode, labels=t5_k, colors=colors,\n",
    "        autopct='%1.1f%%', shadow=True, startangle=80)\n",
    " \n",
    "    plt.axis('equal')\n",
    "    plt.show()"
   ]
  },
  {
   "cell_type": "markdown",
   "metadata": {},
   "source": [
    "This method needs to take two parameters (x, y). We specify the visual graphics sizes, colors, explode for style. And then finally we do a pie plot as requested using our values for x(t5_k) and for y(t5_v)\n",
    "\n",
    "### The Result\n",
    "![image](http://i66.tinypic.com/14x0vtd.png)"
   ]
  },
  {
   "cell_type": "code",
   "execution_count": null,
   "metadata": {
    "collapsed": true
   },
   "outputs": [],
   "source": [
    "## Question 4\n",
    "What was the distribution of fatal injuries during the last 20 years? Show it on a barchart!"
   ]
  },
  {
   "cell_type": "code",
   "execution_count": null,
   "metadata": {
    "collapsed": true
   },
   "outputs": [],
   "source": []
  },
  {
   "cell_type": "markdown",
   "metadata": {},
   "source": [
    "## Question 5\n",
    "[UPDATED] What was the survival rate (how many died / how many survived) for substantially damaged AND destroyed aircrafts since 1993, showing data for each year. Show results on a stacked bar plot. (see more in notebook 14 - Intro to plotting / example 62.)"
   ]
  },
  {
   "cell_type": "code",
   "execution_count": null,
   "metadata": {
    "collapsed": true
   },
   "outputs": [],
   "source": []
  }
 ],
 "metadata": {
  "kernelspec": {
   "display_name": "Python 3",
   "language": "python",
   "name": "python3"
  },
  "language_info": {
   "codemirror_mode": {
    "name": "ipython",
    "version": 3
   },
   "file_extension": ".py",
   "mimetype": "text/x-python",
   "name": "python",
   "nbconvert_exporter": "python",
   "pygments_lexer": "ipython3",
   "version": "3.4.3"
  }
 },
 "nbformat": 4,
 "nbformat_minor": 2
}
