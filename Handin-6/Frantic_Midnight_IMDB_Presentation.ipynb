{
 "cells": [
  {
   "cell_type": "markdown",
   "metadata": {
    "collapsed": false,
    "deletable": true,
    "editable": true
   },
   "source": [
    "# Synopsis\n",
    "This exercise uses a dataset from IMDb ranging from age 1893 to 2005. Your tasks is to analyze the data and draw conclusion with your results(Think historicaly)\n",
    "\n",
    "# Dataset\n",
    "The CSV file can be found on http://vincentarelbundock.github.io/Rdatasets/csv/ggplot2/movies.csv. (Same dataset has been uploaded to this repo)\n",
    "Use the CSV file attached so every group analyzes the same data. The CSV file contains the following headers:\n",
    "\n",
    "1. title Title of the movie\n",
    "2. year Year the movie was released\n",
    "3. length Length of the movie in minutes\n",
    "4. budget Cost of the movie\n",
    "5. rating The average rating(Rating listed on IMDb)\n",
    "6. votes Amount of votes given\n",
    "7. r1-r10 Possibility of rating given from 1 Rating to 10 Rating. Should add up to 100, but due to rounding it doesnot sum up exactly\n",
    "8. mpaa(Motion Picture Association of America) https://en.wikipedia.org/wiki/Motion_Picture_Association_of_America_film_rating_system\n",
    "9. Genres(Action,Animation,Comedy,Drama,Documentary,Romance,Short) Which genre the film is(Can be multiple)\n",
    "\n",
    "# Questions\n",
    "1. Create histograms of rating, length and length of title.\n",
    "2. Create a graph showing both year and amount of movies made.\n",
    "3. Make a scatter-plot with year and length of movies. (Try to find clusters and explain them. Wild guesses are accepted).\n",
    "4. Apply the MeanShift algorithm to identify all the clusters in the scatter-plot from Question 3.\n",
    "5. Create a median line for the scatter-plot made in Question 3.\n",
    "6. Make a scatter plot of: Length and year. Explain the connections between the different axis. (Optional:If the movie is animated or not)\n",
    "\n",
    "# Solutions\n",
    "\n",
    "## Modules"
   ]
  },
  {
   "cell_type": "code",
   "execution_count": 3,
   "metadata": {
    "collapsed": true,
    "deletable": true,
    "editable": true
   },
   "outputs": [],
   "source": [
    "import pandas as pd\n",
    "import matplotlib.pyplot as plt\n",
    "import webget\n",
    "from collections import defaultdict\n",
    "from urllib.parse import urlparse\n",
    "import os"
   ]
  },
  {
   "cell_type": "markdown",
   "metadata": {
    "deletable": true,
    "editable": true
   },
   "source": [
    "## Python book plot enabler"
   ]
  },
  {
   "cell_type": "code",
   "execution_count": 11,
   "metadata": {
    "collapsed": true,
    "deletable": true,
    "editable": true
   },
   "outputs": [],
   "source": [
    "import warnings\n",
    "warnings.filterwarnings('ignore')\n",
    "\n",
    "%matplotlib inline"
   ]
  },
  {
   "cell_type": "markdown",
   "metadata": {
    "deletable": true,
    "editable": true
   },
   "source": [
    "We will be using [pandas](http://pandas.pydata.org/) to read all the data from a csv file and prepare it for data handling as a dataframe object. Webget is a custom library written by us to download a file at a direct link location. Next, [os](https://docs.python.org/2/library/os.html) is used to get the destination of the file platform non-specific. Next, [urlparse](https://docs.python.org/2/library/urlparse.html) is used in conjunction with our webget to wellform a url. Next, [heapq](https://docs.python.org/2/library/heapq.html), which is a module that gives us access to things like the [heapsort](https://en.wikipedia.org/wiki/Heapsort) algorithm. Collections contain a [defaultdict](https://docs.python.org/2/library/collections.html) object we will be using as our data structure, which has a useful lamdas:0 approach for setting up new keys with default values. Finally, we have [pyplot](http://matplotlib.org/) for plotting our data. \n",
    "\n",
    "## Pre-Functions\n",
    "To download the dataset from an external source implement the function:"
   ]
  },
  {
   "cell_type": "code",
   "execution_count": 6,
   "metadata": {
    "collapsed": true,
    "deletable": true,
    "editable": true
   },
   "outputs": [],
   "source": [
    "def download(link):\n",
    "    file = webget.download(link)\n",
    "    return os.path.basename(urlparse(link).path)"
   ]
  },
  {
   "cell_type": "markdown",
   "metadata": {
    "deletable": true,
    "editable": true
   },
   "source": [
    "To convert the csv file to a managable dataframe object implement the function:"
   ]
  },
  {
   "cell_type": "code",
   "execution_count": null,
   "metadata": {
    "collapsed": true,
    "deletable": true,
    "editable": true
   },
   "outputs": [],
   "source": [
    "def csv_to_df(src):\n",
    "    return pd.read_csv(src)"
   ]
  },
  {
   "cell_type": "markdown",
   "metadata": {
    "deletable": true,
    "editable": true
   },
   "source": [
    "To prepare a data object to be handled to reach conclusion, prepare the following variables using the functions above:"
   ]
  },
  {
   "cell_type": "code",
   "execution_count": null,
   "metadata": {
    "collapsed": false,
    "deletable": true,
    "editable": true
   },
   "outputs": [],
   "source": [
    "url = \"http://vincentarelbundock.github.io/Rdatasets/csv/ggplot2/movies.csv\"\n",
    "file = download(url)\n",
    "data = csv_to_df(file)"
   ]
  },
  {
   "cell_type": "markdown",
   "metadata": {},
   "source": [
    "We will be using two functions to handle the keys and the values of the dictionaries(Python data type) we'll be working with. Prepare the functions:"
   ]
  },
  {
   "cell_type": "code",
   "execution_count": 4,
   "metadata": {
    "collapsed": true
   },
   "outputs": [],
   "source": [
    "def get_dict_values(d):\n",
    "    return list(d.values())"
   ]
  },
  {
   "cell_type": "code",
   "execution_count": 3,
   "metadata": {
    "collapsed": true
   },
   "outputs": [],
   "source": [
    "def get_dict_keys(d):\n",
    "    return list(d.keys())"
   ]
  },
  {
   "cell_type": "markdown",
   "metadata": {
    "deletable": true,
    "editable": true
   },
   "source": [
    "We are now ready to feed the functions that data handle our \"data\" object"
   ]
  },
  {
   "cell_type": "markdown",
   "metadata": {
    "deletable": true,
    "editable": true
   },
   "source": [
    "## Question 1\n",
    "Create histograms of rating, length and length of title."
   ]
  },
  {
   "cell_type": "markdown",
   "metadata": {
    "deletable": true,
    "editable": true
   },
   "source": [
    "## Question 2\n",
    "Create a graph showing both year and amount of movies made\n",
    "\n",
    "### Result\n",
    "![image](http://i67.tinypic.com/2llle2o.png)"
   ]
  },
  {
   "cell_type": "markdown",
   "metadata": {
    "collapsed": true,
    "deletable": true,
    "editable": true
   },
   "source": [
    "### Observations\n",
    "1. Overall climb in movie production towards the year 2000\n",
    "2. A sudden dive after 2002\n",
    "3. On average 650 movies are made yearly\n",
    "\n",
    "### Code\n",
    "Prepare a defaultdict, so every new key entry is set to a default value. \n",
    "Iterate over every tuple in the dataframe. Using the rows we iterate on, we can determine the year by looking at column [3]. If that year is present in the dictionary we count up the entry, if not we make one.\n",
    "\n",
    "Finally, return the dict"
   ]
  },
  {
   "cell_type": "code",
   "execution_count": 1,
   "metadata": {
    "collapsed": true
   },
   "outputs": [],
   "source": [
    "def ex_two(data):\n",
    "    movie_dict = defaultdict(lambda:0)\n",
    "    \n",
    "    for row in data.itertuples():\n",
    "        year = row[3]\n",
    "        if year in movie_dict:\n",
    "            movie_dict[year] += 1\n",
    "        else:\n",
    "            movie_dict[year] = 1\n",
    "            \n",
    "    return movie_dict"
   ]
  },
  {
   "cell_type": "markdown",
   "metadata": {
    "deletable": true,
    "editable": true
   },
   "source": [
    "## Question 3\n",
    "Make a scatter-plot with year and length of movies. (Try to find clusters and explain them. Wild guesses are accepted)."
   ]
  },
  {
   "cell_type": "code",
   "execution_count": null,
   "metadata": {
    "collapsed": true,
    "deletable": true,
    "editable": true
   },
   "outputs": [],
   "source": []
  },
  {
   "cell_type": "markdown",
   "metadata": {
    "deletable": true,
    "editable": true
   },
   "source": [
    "## Question 4\n",
    "Apply the MeanShift algorithm to identify all the clusters in the scatter-plot from Question 3"
   ]
  },
  {
   "cell_type": "code",
   "execution_count": null,
   "metadata": {
    "collapsed": true,
    "deletable": true,
    "editable": true
   },
   "outputs": [],
   "source": []
  },
  {
   "cell_type": "markdown",
   "metadata": {
    "deletable": true,
    "editable": true
   },
   "source": [
    "## Question 5\n",
    "Create a median line for the scatter-plot made in Question 3"
   ]
  },
  {
   "cell_type": "code",
   "execution_count": null,
   "metadata": {
    "collapsed": true,
    "deletable": true,
    "editable": true
   },
   "outputs": [],
   "source": []
  },
  {
   "cell_type": "markdown",
   "metadata": {
    "deletable": true,
    "editable": true
   },
   "source": [
    "## Question 6\n",
    "Make a scatter plot of: Length and year. Explain the connections between the different axis. (Optional:If the movie is animated or not)"
   ]
  }
 ],
 "metadata": {
  "kernelspec": {
   "display_name": "Python 3",
   "language": "python",
   "name": "python3"
  },
  "language_info": {
   "codemirror_mode": {
    "name": "ipython",
    "version": 3
   },
   "file_extension": ".py",
   "mimetype": "text/x-python",
   "name": "python",
   "nbconvert_exporter": "python",
   "pygments_lexer": "ipython3",
   "version": "3.4.3"
  }
 },
 "nbformat": 4,
 "nbformat_minor": 2
}
