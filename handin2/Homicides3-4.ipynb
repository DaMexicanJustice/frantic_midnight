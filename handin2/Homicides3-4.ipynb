{
 "cells": [
  {
   "cell_type": "code",
   "execution_count": 9,
   "metadata": {
    "collapsed": false
   },
   "outputs": [],
   "source": [
    "import pandas as pd\n",
    "import numpy as np\n",
    "# import webget\n",
    "\n",
    "homicides = pd.read_csv(\"database.csv\", dtype={\"Perpetrator Age\": object})\n",
    "\n",
    "dd = homicides.as_matrix()"
   ]
  },
  {
   "cell_type": "code",
   "execution_count": 10,
   "metadata": {
    "collapsed": false
   },
   "outputs": [
    {
     "name": "stdout",
     "output_type": "stream",
     "text": [
      "Most used weapon by females: Handgun\n"
     ]
    }
   ],
   "source": [
    "#Which weapon is most used by women?\n",
    "\n",
    "# Weapon = 20\n",
    "# Perpetrator sex = 15\n",
    "\n",
    "weapons, count = np.unique(dd[(dd[:,15] == \"Female\")][:,20], return_counts=True)\n",
    "print(\"Most used weapon by females: \" + weapons[np.argmax(count)])"
   ]
  },
  {
   "cell_type": "code",
   "execution_count": 11,
   "metadata": {
    "collapsed": false
   },
   "outputs": [
    {
     "name": "stdout",
     "output_type": "stream",
     "text": [
      "Youngest victim:  0 years old\n",
      "Oldest victim:  100 years old\n"
     ]
    }
   ],
   "source": [
    "#What is the age of the youngest victim and the oldest victim?\n",
    "\n",
    "young_victim = np.unique(dd[:,12])\n",
    "    \n",
    "old_victim = np.unique(dd[:,12])\n",
    "\n",
    "print(\"Youngest victim: \", np.argmin(young_victim), \"years old\")\n",
    "print(\"Oldest victim: \", np.argmax(old_victim), \"years old\")"
   ]
  },
  {
   "cell_type": "code",
   "execution_count": null,
   "metadata": {
    "collapsed": true
   },
   "outputs": [],
   "source": []
  }
 ],
 "metadata": {
  "kernelspec": {
   "display_name": "Python 3",
   "language": "python",
   "name": "python3"
  },
  "language_info": {
   "codemirror_mode": {
    "name": "ipython",
    "version": 3
   },
   "file_extension": ".py",
   "mimetype": "text/x-python",
   "name": "python",
   "nbconvert_exporter": "python",
   "pygments_lexer": "ipython3",
   "version": "3.4.3"
  }
 },
 "nbformat": 4,
 "nbformat_minor": 2
}
