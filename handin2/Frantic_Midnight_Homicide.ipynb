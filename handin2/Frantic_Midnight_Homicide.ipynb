{
 "cells": [
  {
   "cell_type": "code",
   "execution_count": 7,
   "metadata": {
    "collapsed": true,
    "deletable": true,
    "editable": true
   },
   "outputs": [],
   "source": [
    "# the following line is jupyter notebook specific \n",
    "%matplotlib inline"
   ]
  },
  {
   "cell_type": "markdown",
   "metadata": {
    "deletable": true,
    "editable": true
   },
   "source": [
    "# Python Dataset Assigment 2\n",
    "\n",
    "## The Dataset\n",
    "The dataset is a file containing data about homocides in the period from 1980-2014 with data about the victim along with his case, including gender, age, ethnicity, perpetrator and so on.\n",
    "## The Task\n",
    "1. Which ethnicity is it most common for the victims and perpetrators to be?\n",
    "2. Which weapon is most used by men?\n",
    "3. Which weapon is most used by women?\n",
    "4. What is the age of the youngest victim and the oldest victim?\n",
    "5. Average age of victims?\n",
    "6. Male to female ratio of perpetrators?\n",
    "7. Top 10 states with most homicides? display it with bars (barchart) or similar\n",
    "\n",
    "Optionals:\n",
    "8. ~~Are younger perpetrators (age 15-25) more likely to get caught then older ones (25+)?~~\n",
    "\n",
    "We have done all the above except for the ones that are striked.\n"
   ]
  },
  {
   "cell_type": "markdown",
   "metadata": {
    "deletable": true,
    "editable": true
   },
   "source": [
    "## Question 1\n",
    "**Which ethnicity is it most common for the victims and perpetrators to be?**\n",
    "\n",
    "We used dictionaries for this. We import the defaultdict from collections because it lets us set a default value for unknown entries. We load the CSV file, create dictionaries, and insert into them while iterating.\n",
    "\n",
    "We first tried iterating with *iterrows*, but it was **orders of magnitude slower** than *itertuples*.\n",
    "\n",
    "The most popular victim and perpetrator ethnicity seems to be **Unknown**. We thought this was an error at first, but if we print out the dictionaries that we counted, we can see that it is not an error."
   ]
  },
  {
   "cell_type": "code",
   "execution_count": 12,
   "metadata": {
    "collapsed": false,
    "deletable": true,
    "editable": true
   },
   "outputs": [
    {
     "name": "stdout",
     "output_type": "stream",
     "text": [
      "Most popular victim ethnicity: Unknown\n",
      "{'Hispanic': 72652, 'Unknown': 368303, 'Not Hispanic': 197499}\n",
      "\n",
      "Most popular perpetrator ethnicity: Unknown\n",
      "{'Hispanic': 46872, 'Unknown': 446410, 'Not Hispanic': 145172}\n"
     ]
    }
   ],
   "source": [
    "from collections import defaultdict\n",
    "import pandas as pd\n",
    "\n",
    "data = pd.read_csv(\"./database.csv\", dtype={\"Perpetrator Age\": object})\n",
    "\n",
    "victims = defaultdict(lambda: 0)\n",
    "perpetrators = defaultdict(lambda: 0)\n",
    "\n",
    "for row in data.itertuples():       # itertuples gave order of magnitude improvement over iterrows\n",
    "    victims[row[15]] += 1\n",
    "    perpetrators[row[19]] += 1\n",
    "    \n",
    "eth_victim = max(victims, key=victims.get)\n",
    "eth_perpetrator = max(perpetrators, key=perpetrators.get)\n",
    "print(\"Most popular victim ethnicity: \" + eth_victim)\n",
    "print(dict(victims))\n",
    "print(\"\")\n",
    "print(\"Most popular perpetrator ethnicity: \" + eth_perpetrator)\n",
    "print(dict(perpetrators))"
   ]
  },
  {
   "cell_type": "markdown",
   "metadata": {
    "deletable": true,
    "editable": true
   },
   "source": [
    "## Question 2\n",
    "Which weapon is most used by men?\n",
    "\n",
    "Same as before, we make a simple counting dictionary."
   ]
  },
  {
   "cell_type": "code",
   "execution_count": 13,
   "metadata": {
    "collapsed": false,
    "deletable": true,
    "editable": true
   },
   "outputs": [
    {
     "name": "stdout",
     "output_type": "stream",
     "text": [
      "Most popular male weapon: Handgun\n"
     ]
    }
   ],
   "source": [
    "male_weapons = defaultdict(lambda: 0)\n",
    "for row in data.itertuples():\n",
    "    if(row[16] == \"Male\"):\n",
    "        male_weapons[row[21]] += 1\n",
    "top_male_weapon = max(male_weapons, key=male_weapons.get)\n",
    "print(\"Most popular male weapon: \" + top_male_weapon)"
   ]
  },
  {
   "cell_type": "markdown",
   "metadata": {
    "deletable": true,
    "editable": true
   },
   "source": [
    "## Question 3\n",
    "Which weapon is most used by women?\n",
    "\n",
    "First we import pandas as pd and numpy as np.\n",
    "Then we read the csv file and set Perpetrator Ages dtype as object since it has a data mismatch.\n",
    "\n",
    "we set the csv file as a specialized 2d-array with matrix() and call it dd.\n",
    "\n",
    "we specifically take Female from column 15 with np.unique and counts it with the weapon column(20) and then print out the  weapon used the mostb with np.argmax."
   ]
  },
  {
   "cell_type": "code",
   "execution_count": 1,
   "metadata": {
    "collapsed": false,
    "deletable": true,
    "editable": true
   },
   "outputs": [
    {
     "name": "stdout",
     "output_type": "stream",
     "text": [
      "Most used weapon by females: Handgun\n"
     ]
    }
   ],
   "source": [
    "import pandas as pd\n",
    "import numpy as np\n",
    "# import webget\n",
    "\n",
    "homicides = pd.read_csv(\"database.csv\", dtype={\"Perpetrator Age\": object})\n",
    "\n",
    "dd = homicides.as_matrix()\n",
    "\n",
    "# Weapon = 20\n",
    "# Perpetrator sex = 15\n",
    "\n",
    "weapons, count = np.unique(dd[(dd[:,15] == \"Female\")][:,20], return_counts=True)\n",
    "print(\"Most used weapon by females: \" + weapons[np.argmax(count)])"
   ]
  },
  {
   "cell_type": "markdown",
   "metadata": {
    "deletable": true,
    "editable": true
   },
   "source": [
    "## Question 4\n",
    "What is the age of the youngest victim and the oldest victim?\n",
    "\n",
    "This was pretty simple since we just had to use column 12, so we uniquely specified column 12 two times to get both the max value and the min value from the column."
   ]
  },
  {
   "cell_type": "code",
   "execution_count": 2,
   "metadata": {
    "collapsed": false,
    "deletable": true,
    "editable": true
   },
   "outputs": [
    {
     "name": "stdout",
     "output_type": "stream",
     "text": [
      "Youngest victim:  0 years old\n",
      "Oldest victim:  100 years old\n"
     ]
    }
   ],
   "source": [
    "#What is the age of the youngest victim and the oldest victim?\n",
    "\n",
    "young_victim = np.unique(dd[:,12])\n",
    "    \n",
    "old_victim = np.unique(dd[:,12])\n",
    "\n",
    "print(\"Youngest victim: \", np.argmin(young_victim), \"years old\")\n",
    "print(\"Oldest victim: \", np.argmax(old_victim), \"years old\")"
   ]
  },
  {
   "cell_type": "markdown",
   "metadata": {
    "deletable": true,
    "editable": true
   },
   "source": [
    "## Question 5\n",
    "Average age of victims?\n",
    "\n",
    "In order to find the average age of the victims, we created 2 variables: 1 for the sum of all ages and 1 for the count of them.\n",
    "When we've got these 2 numbers, it's fairly simple to just divide the sum with the count, and thereby have the average\n"
   ]
  },
  {
   "cell_type": "code",
   "execution_count": 5,
   "metadata": {
    "collapsed": false,
    "deletable": true,
    "editable": true
   },
   "outputs": [],
   "source": [
    "#data = read_from_csv(\"./database.csv\")\n",
    "\n",
    "\n",
    "def ex5_average_victim_age(data):\n",
    "    age_sum = 0\n",
    "    counting = 0\n",
    "    \n",
    "    for row in data.iterrows():\n",
    "       if(row[13] == \"Victim Age\"):\n",
    "                pass # ignore headers\n",
    "       else:\n",
    "          age_sum += int(row[13])\n",
    "          counting += 1\n",
    "    average_victim_age = float(age_sum / counting)\n",
    "    \n",
    "    print(\"The average victim age is \" + average_victim_age + \".\")"
   ]
  },
  {
   "cell_type": "markdown",
   "metadata": {
    "deletable": true,
    "editable": true
   },
   "source": [
    "## Question 6\n",
    "Male to female ratio of perpetrators?\n",
    "\n",
    "Much like the previous question; we instantiate some variables. As we iterate over the entire row that holds \"Victim Sex\", we check their gender and count up for their respective variable. When we've aquired these 2 numbers, then it's only a matter of finding the percentage.  "
   ]
  },
  {
   "cell_type": "code",
   "execution_count": null,
   "metadata": {
    "collapsed": true,
    "deletable": true,
    "editable": true
   },
   "outputs": [],
   "source": [
    "def ex6_gender_ratio_attackers(data):\n",
    "    \n",
    "    male_count = 0\n",
    "    female_count = 0\n",
    "    unknown_count = 0\n",
    "    total_count = 0\n",
    "    \n",
    "    for row in data.iterrows():\n",
    "        if (row[12] == \"Victim Sex):\n",
    "            pass #ignore headers\n",
    "        elif(row[12] == \"Male\"):\n",
    "            male_count += 1\n",
    "            total_count += 1\n",
    "        elif(row[12] == \"Female\"):\n",
    "            female_count += 1\n",
    "            total_count += 1\n",
    "     \n",
    "    male_ratio = (male_count / total_count) * 100      \n",
    "    female_ratio = (female_count / total_count) * 100\n",
    "            \n",
    "    print(\"Males made up: \" + male_ratio + \"% /n,\" + \n",
    "          \"females made up: \" + female_ratio\" + %.\")\n",
    "    "
   ]
  },
  {
   "cell_type": "markdown",
   "metadata": {
    "deletable": true,
    "editable": true
   },
   "source": [
    "## Question 7\n",
    "Top 10 states with most homicides? display it with bars (barchart) or similar "
   ]
  },
  {
   "cell_type": "markdown",
   "metadata": {
    "deletable": true,
    "editable": true
   },
   "source": [
    "First we need to take care of the importing of the Python modules that we are going to be using, they are as following:"
   ]
  },
  {
   "cell_type": "code",
   "execution_count": 9,
   "metadata": {
    "collapsed": true,
    "deletable": true,
    "editable": true
   },
   "outputs": [],
   "source": [
    "import pandas as pd\n",
    "import matplotlib.pyplot as plt\n",
    "import heapq"
   ]
  },
  {
   "cell_type": "markdown",
   "metadata": {
    "deletable": true,
    "editable": true
   },
   "source": [
    "We will be using [pandas](http://pandas.pydata.org/) to read all the data from a csv file and prepare it for data handling as a dataframe object. Next up is [pyplot](http://matplotlib.org/users/pyplot_tutorial.html), which is going to be used to present the data as a bar chart. Next, heapq, which is a module that gives us access to things like the [heapsort](https://en.wikipedia.org/wiki/Heapsort) algorithm. "
   ]
  },
  {
   "cell_type": "markdown",
   "metadata": {
    "deletable": true,
    "editable": true
   },
   "source": [
    "The second step is to download the dataset from a target url. We simulate that in this case, because the dataset had to retrieved manually:"
   ]
  },
  {
   "cell_type": "code",
   "execution_count": 10,
   "metadata": {
    "collapsed": true,
    "deletable": true,
    "editable": true
   },
   "outputs": [],
   "source": [
    "def download(url):\n",
    "    return \"./database.csv\""
   ]
  },
  {
   "cell_type": "markdown",
   "metadata": {
    "deletable": true,
    "editable": true
   },
   "source": [
    "The third step is to read the dataset and prepare it for data handling, we use pandas here"
   ]
  },
  {
   "cell_type": "code",
   "execution_count": 11,
   "metadata": {
    "collapsed": true,
    "deletable": true,
    "editable": true
   },
   "outputs": [],
   "source": [
    "def read_from_csv(filename):\n",
    "    data = pd.read_csv(filename)\n",
    "    return data"
   ]
  },
  {
   "cell_type": "markdown",
   "metadata": {
    "deletable": true,
    "editable": true
   },
   "source": [
    "Now that we have a dataframe object, called data, we can start applying data handling to get the results we want. Remember we are interested in the top 10 states by homicide rates!\n",
    "First of all we define a new function as ex7_state_most_homicides, which takes the data as parameter and something we have invented called a limiter. The limiter is used if you only want to take so many rows from the huge data set, for testing purposes."
   ]
  },
  {
   "cell_type": "code",
   "execution_count": 11,
   "metadata": {
    "collapsed": false,
    "deletable": true,
    "editable": true
   },
   "outputs": [],
   "source": [
    "def ex7_states_most_homicides(data, limiter):\n",
    "    if limiter > len(data):\n",
    "        raise ValueError('Limiter value higher than data in dataset!')\n",
    "    states = {}\n",
    "    #for idx, row in data.iterrows():\n",
    "        #if row[\"State\"] in states:\n",
    "            #states[row[\"State\"]] += 1\n",
    "        #else:\n",
    "            #states.setdefault(row[\"State\"], 0)\n",
    "        #if idx > limiter:\n",
    "            #break\n",
    "    top_10_states = {}\n",
    "    #Return the top 6 elements in our list. nlargest takes n = elements, iterable = Publishers and opt key which we need here \n",
    "    #list_of_states = heapq.nlargest(10, states, key=states.get) \n",
    "    #for state in list_of_states:\n",
    "        #top_10_states[state] = states.get(state)\n",
    "    return top_10_states"
   ]
  },
  {
   "cell_type": "markdown",
   "metadata": {
    "deletable": true,
    "editable": true
   },
   "source": [
    "In the above code pay attention to all lines that are not comments (has # infront and is not grey). We use our limiter to determine if it is set to a value bigger than the total rows of the data. If that is the case, we have someone who is trying to use our method incorrectly. We throw an error telling him that.\n",
    "Then we prepare 2 dictionaries, states and top_10_states and we return the latter\n",
    "\n",
    "Now we are ready to fetch the data we need:"
   ]
  },
  {
   "cell_type": "code",
   "execution_count": 12,
   "metadata": {
    "collapsed": true,
    "deletable": true,
    "editable": true
   },
   "outputs": [],
   "source": [
    "def ex7_states_most_homicides(data, limiter):\n",
    "    if limiter > len(data):\n",
    "        raise ValueError('Limiter value higher than data in dataset!')\n",
    "    states = {}\n",
    "    for idx, row in data.iterrows():\n",
    "        if row[\"State\"] in states:\n",
    "            states[row[\"State\"]] += 1\n",
    "        else:\n",
    "            states.setdefault(row[\"State\"], 1)\n",
    "        if idx > limiter:\n",
    "            break\n",
    "    top_10_states = {}\n",
    "    #Return the top 6 elements in our list. nlargest takes n = elements, iterable = Publishers and opt key which we need here \n",
    "    #list_of_states = heapq.nlargest(10, states, key=states.get) \n",
    "    #for state in list_of_states:\n",
    "        #top_10_states[state] = states.get(state)\n",
    "    return top_10_states"
   ]
  },
  {
   "cell_type": "markdown",
   "metadata": {
    "deletable": true,
    "editable": true
   },
   "source": [
    "For every index and row in our data, we ask if the name of the row we are on exists in the dictionary we prepared \"states\", if that is the case, we do not need to add a new entry, but simply count the number of entries by saying, hey, here is an occurence so let's add 1! \n",
    "If it does not exist (else) we create a new entry and set it to a default of 1."
   ]
  },
  {
   "cell_type": "markdown",
   "metadata": {
    "deletable": true,
    "editable": true
   },
   "source": [
    "For the final step we do this:"
   ]
  },
  {
   "cell_type": "code",
   "execution_count": 14,
   "metadata": {
    "collapsed": true,
    "deletable": true,
    "editable": true
   },
   "outputs": [],
   "source": [
    "def ex7_states_most_homicides(data, limiter):\n",
    "    if limiter > len(data):\n",
    "        raise ValueError('Limiter value higher than data in dataset!')\n",
    "    states = {}\n",
    "    for idx, row in data.iterrows():\n",
    "        if row[\"State\"] in states:\n",
    "            states[row[\"State\"]] += 1\n",
    "        else:\n",
    "            states.setdefault(row[\"State\"], 1)\n",
    "        if idx > limiter:\n",
    "            break\n",
    "    top_10_states = {}\n",
    "    #Return the top 6 elements in our list. nlargest takes n = elements, iterable = Publishers and opt key which we need here \n",
    "    list_of_states = heapq.nlargest(10, states, key=states.get) \n",
    "    for state in list_of_states:\n",
    "        top_10_states[state] = states.get(state)\n",
    "    return top_10_states"
   ]
  },
  {
   "cell_type": "markdown",
   "metadata": {
    "deletable": true,
    "editable": true
   },
   "source": [
    "We use the module we imported heapq, to find the n largest elements in our dictionairy and return the names instead of the values. We now get a dictionary of the top 10 states by name.\n",
    "Next, we need to apply a value to the dict keys so we iterate over every state and assign its value\n",
    "\n",
    "Finally, return the dictionairy"
   ]
  },
  {
   "cell_type": "markdown",
   "metadata": {
    "deletable": true,
    "editable": true
   },
   "source": [
    "The final step is to plot our data that we handled:"
   ]
  },
  {
   "cell_type": "code",
   "execution_count": 15,
   "metadata": {
    "collapsed": true,
    "deletable": true,
    "editable": true
   },
   "outputs": [],
   "source": [
    "def ex7_plot(tt_values, tt_labels):\n",
    "    plt.bar(range(len(tt_values)), tt_values, width=0.5, linewidth=0, align='center') # !IMPORTANT\n",
    "    plt.xticks(range(len(tt_values)), tt_labels, size='small')\n",
    "    title = 'Top 10 states with highest recorded homocide rates'\n",
    "    plt.title(title, fontsize=20)\n",
    "    plt.xlabel(\"State\", fontsize=12)\n",
    "    plt.ylabel(\"No. of homocide cases\", fontsize=12)\n",
    "    plt.tick_params(axis='x', which='major', labelsize=5)\n",
    "    plt.show()"
   ]
  },
  {
   "cell_type": "markdown",
   "metadata": {
    "deletable": true,
    "editable": true
   },
   "source": [
    "We define a function that will takes labels and values. It will then bar plot those values. The important line is the first one, plt.bar .... where we specify our valies for the x and y axis"
   ]
  },
  {
   "cell_type": "markdown",
   "metadata": {
    "deletable": true,
    "editable": true
   },
   "source": [
    "So how do we use our functions? Like this:"
   ]
  },
  {
   "cell_type": "code",
   "execution_count": null,
   "metadata": {
    "collapsed": false,
    "deletable": true,
    "editable": true
   },
   "outputs": [],
   "source": [
    "filename = download(\"dummy_url\")\n",
    "data = read_from_csv(filename)\n",
    "top_ten_states = ex7_states_most_homicides(data, len(data)) # !IMPORTANT\n",
    "tt_labels = list(top_ten_states.keys()) # !IMPORTANT\n",
    "tt_values = list(top_ten_states.values()) # !IMPORTANT\n",
    "ex7_plot(tt_values, tt_labels)"
   ]
  },
  {
   "cell_type": "markdown",
   "metadata": {
    "deletable": true,
    "editable": true
   },
   "source": [
    "We need to prepare the data dictionary as a list, so we can fetch its keys and values separately and send them to our plotter function"
   ]
  },
  {
   "cell_type": "markdown",
   "metadata": {
    "deletable": true,
    "editable": true
   },
   "source": [
    "## The Result"
   ]
  },
  {
   "cell_type": "markdown",
   "metadata": {
    "deletable": true,
    "editable": true
   },
   "source": [
    "![alt text](https://github.com/DaMexicanJustice/frantic_midnight/blob/master/handin2/ex7_plot.png?raw=true \"Logo Title Text 1\")"
   ]
  },
  {
   "cell_type": "code",
   "execution_count": null,
   "metadata": {
    "collapsed": true,
    "deletable": true,
    "editable": true
   },
   "outputs": [],
   "source": []
  }
 ],
 "metadata": {
  "kernelspec": {
   "display_name": "Python 3",
   "language": "python",
   "name": "python3"
  },
  "language_info": {
   "codemirror_mode": {
    "name": "ipython",
    "version": 3
   },
   "file_extension": ".py",
   "mimetype": "text/x-python",
   "name": "python",
   "nbconvert_exporter": "python",
   "pygments_lexer": "ipython3",
   "version": "3.4.3"
  }
 },
 "nbformat": 4,
 "nbformat_minor": 2
}
